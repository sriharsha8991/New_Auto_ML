{
 "cells": [
  {
   "cell_type": "code",
   "execution_count": 2,
   "metadata": {},
   "outputs": [
    {
     "ename": "ModuleNotFoundError",
     "evalue": "No module named 'pandas'",
     "output_type": "error",
     "traceback": [
      "\u001b[1;31m---------------------------------------------------------------------------\u001b[0m",
      "\u001b[1;31mModuleNotFoundError\u001b[0m                       Traceback (most recent call last)",
      "\u001b[1;32mc:\\Users\\sriharsha\\Desktop\\New_Auto_ML\\Notebook\\Automl.ipynb Cell 1\u001b[0m in \u001b[0;36m<cell line: 3>\u001b[1;34m()\u001b[0m\n\u001b[0;32m      <a href='vscode-notebook-cell:/c%3A/Users/sriharsha/Desktop/New_Auto_ML/Notebook/Automl.ipynb#W0sZmlsZQ%3D%3D?line=0'>1</a>\u001b[0m \u001b[39mimport\u001b[39;00m \u001b[39mos\u001b[39;00m\n\u001b[0;32m      <a href='vscode-notebook-cell:/c%3A/Users/sriharsha/Desktop/New_Auto_ML/Notebook/Automl.ipynb#W0sZmlsZQ%3D%3D?line=1'>2</a>\u001b[0m \u001b[39mimport\u001b[39;00m \u001b[39msys\u001b[39;00m\n\u001b[1;32m----> <a href='vscode-notebook-cell:/c%3A/Users/sriharsha/Desktop/New_Auto_ML/Notebook/Automl.ipynb#W0sZmlsZQ%3D%3D?line=2'>3</a>\u001b[0m \u001b[39mimport\u001b[39;00m \u001b[39mpandas\u001b[39;00m \u001b[39mas\u001b[39;00m \u001b[39mpd\u001b[39;00m\n\u001b[0;32m      <a href='vscode-notebook-cell:/c%3A/Users/sriharsha/Desktop/New_Auto_ML/Notebook/Automl.ipynb#W0sZmlsZQ%3D%3D?line=3'>4</a>\u001b[0m \u001b[39mimport\u001b[39;00m \u001b[39mnumpy\u001b[39;00m \u001b[39mas\u001b[39;00m \u001b[39mnp\u001b[39;00m\n\u001b[0;32m      <a href='vscode-notebook-cell:/c%3A/Users/sriharsha/Desktop/New_Auto_ML/Notebook/Automl.ipynb#W0sZmlsZQ%3D%3D?line=4'>5</a>\u001b[0m \u001b[39mfrom\u001b[39;00m \u001b[39msklearn\u001b[39;00m\u001b[39m.\u001b[39;00m\u001b[39mmodel_selection\u001b[39;00m \u001b[39mimport\u001b[39;00m train_test_split\n",
      "\u001b[1;31mModuleNotFoundError\u001b[0m: No module named 'pandas'"
     ]
    }
   ],
   "source": [
    "import os\n",
    "import sys\n",
    "import pandas as pd\n",
    "import numpy as np\n",
    "from sklearn.model_selection import train_test_split\n",
    "from sklearn.pipeline import Pipeline\n",
    "from sklearn.preprocessing import StandardScaler, OneHotEncoder\n",
    "from sklearn.compose import ColumnTransformer\n",
    "from sklearn.metrics import mean_squared_error, r2_score, mean_absolute_error, accuracy_score\n",
    "\n"
   ]
  },
  {
   "cell_type": "code",
   "execution_count": 18,
   "metadata": {},
   "outputs": [],
   "source": [
    "from flaml import AutoML"
   ]
  },
  {
   "cell_type": "code",
   "execution_count": 36,
   "metadata": {},
   "outputs": [],
   "source": [
    "data = pd.read_csv('train.csv')"
   ]
  },
  {
   "cell_type": "code",
   "execution_count": 95,
   "metadata": {},
   "outputs": [],
   "source": [
    "y = data[\"Survived\"]\n",
    "X = data.drop(\"Survived\",axis=1)\n"
   ]
  },
  {
   "cell_type": "code",
   "execution_count": 96,
   "metadata": {},
   "outputs": [
    {
     "data": {
      "text/html": [
       "<div>\n",
       "<style scoped>\n",
       "    .dataframe tbody tr th:only-of-type {\n",
       "        vertical-align: middle;\n",
       "    }\n",
       "\n",
       "    .dataframe tbody tr th {\n",
       "        vertical-align: top;\n",
       "    }\n",
       "\n",
       "    .dataframe thead th {\n",
       "        text-align: right;\n",
       "    }\n",
       "</style>\n",
       "<table border=\"1\" class=\"dataframe\">\n",
       "  <thead>\n",
       "    <tr style=\"text-align: right;\">\n",
       "      <th></th>\n",
       "      <th>PassengerId</th>\n",
       "      <th>Pclass</th>\n",
       "      <th>Name</th>\n",
       "      <th>Sex</th>\n",
       "      <th>Age</th>\n",
       "      <th>SibSp</th>\n",
       "      <th>Parch</th>\n",
       "      <th>Ticket</th>\n",
       "      <th>Fare</th>\n",
       "      <th>Cabin</th>\n",
       "      <th>Embarked</th>\n",
       "    </tr>\n",
       "  </thead>\n",
       "  <tbody>\n",
       "    <tr>\n",
       "      <th>0</th>\n",
       "      <td>1</td>\n",
       "      <td>3</td>\n",
       "      <td>Braund, Mr. Owen Harris</td>\n",
       "      <td>male</td>\n",
       "      <td>22.0</td>\n",
       "      <td>1</td>\n",
       "      <td>0</td>\n",
       "      <td>A/5 21171</td>\n",
       "      <td>7.2500</td>\n",
       "      <td>NaN</td>\n",
       "      <td>S</td>\n",
       "    </tr>\n",
       "    <tr>\n",
       "      <th>1</th>\n",
       "      <td>2</td>\n",
       "      <td>1</td>\n",
       "      <td>Cumings, Mrs. John Bradley (Florence Briggs Th...</td>\n",
       "      <td>female</td>\n",
       "      <td>38.0</td>\n",
       "      <td>1</td>\n",
       "      <td>0</td>\n",
       "      <td>PC 17599</td>\n",
       "      <td>71.2833</td>\n",
       "      <td>C85</td>\n",
       "      <td>C</td>\n",
       "    </tr>\n",
       "    <tr>\n",
       "      <th>2</th>\n",
       "      <td>3</td>\n",
       "      <td>3</td>\n",
       "      <td>Heikkinen, Miss. Laina</td>\n",
       "      <td>female</td>\n",
       "      <td>26.0</td>\n",
       "      <td>0</td>\n",
       "      <td>0</td>\n",
       "      <td>STON/O2. 3101282</td>\n",
       "      <td>7.9250</td>\n",
       "      <td>NaN</td>\n",
       "      <td>S</td>\n",
       "    </tr>\n",
       "    <tr>\n",
       "      <th>3</th>\n",
       "      <td>4</td>\n",
       "      <td>1</td>\n",
       "      <td>Futrelle, Mrs. Jacques Heath (Lily May Peel)</td>\n",
       "      <td>female</td>\n",
       "      <td>35.0</td>\n",
       "      <td>1</td>\n",
       "      <td>0</td>\n",
       "      <td>113803</td>\n",
       "      <td>53.1000</td>\n",
       "      <td>C123</td>\n",
       "      <td>S</td>\n",
       "    </tr>\n",
       "    <tr>\n",
       "      <th>4</th>\n",
       "      <td>5</td>\n",
       "      <td>3</td>\n",
       "      <td>Allen, Mr. William Henry</td>\n",
       "      <td>male</td>\n",
       "      <td>35.0</td>\n",
       "      <td>0</td>\n",
       "      <td>0</td>\n",
       "      <td>373450</td>\n",
       "      <td>8.0500</td>\n",
       "      <td>NaN</td>\n",
       "      <td>S</td>\n",
       "    </tr>\n",
       "    <tr>\n",
       "      <th>...</th>\n",
       "      <td>...</td>\n",
       "      <td>...</td>\n",
       "      <td>...</td>\n",
       "      <td>...</td>\n",
       "      <td>...</td>\n",
       "      <td>...</td>\n",
       "      <td>...</td>\n",
       "      <td>...</td>\n",
       "      <td>...</td>\n",
       "      <td>...</td>\n",
       "      <td>...</td>\n",
       "    </tr>\n",
       "    <tr>\n",
       "      <th>886</th>\n",
       "      <td>887</td>\n",
       "      <td>2</td>\n",
       "      <td>Montvila, Rev. Juozas</td>\n",
       "      <td>male</td>\n",
       "      <td>27.0</td>\n",
       "      <td>0</td>\n",
       "      <td>0</td>\n",
       "      <td>211536</td>\n",
       "      <td>13.0000</td>\n",
       "      <td>NaN</td>\n",
       "      <td>S</td>\n",
       "    </tr>\n",
       "    <tr>\n",
       "      <th>887</th>\n",
       "      <td>888</td>\n",
       "      <td>1</td>\n",
       "      <td>Graham, Miss. Margaret Edith</td>\n",
       "      <td>female</td>\n",
       "      <td>19.0</td>\n",
       "      <td>0</td>\n",
       "      <td>0</td>\n",
       "      <td>112053</td>\n",
       "      <td>30.0000</td>\n",
       "      <td>B42</td>\n",
       "      <td>S</td>\n",
       "    </tr>\n",
       "    <tr>\n",
       "      <th>888</th>\n",
       "      <td>889</td>\n",
       "      <td>3</td>\n",
       "      <td>Johnston, Miss. Catherine Helen \"Carrie\"</td>\n",
       "      <td>female</td>\n",
       "      <td>NaN</td>\n",
       "      <td>1</td>\n",
       "      <td>2</td>\n",
       "      <td>W./C. 6607</td>\n",
       "      <td>23.4500</td>\n",
       "      <td>NaN</td>\n",
       "      <td>S</td>\n",
       "    </tr>\n",
       "    <tr>\n",
       "      <th>889</th>\n",
       "      <td>890</td>\n",
       "      <td>1</td>\n",
       "      <td>Behr, Mr. Karl Howell</td>\n",
       "      <td>male</td>\n",
       "      <td>26.0</td>\n",
       "      <td>0</td>\n",
       "      <td>0</td>\n",
       "      <td>111369</td>\n",
       "      <td>30.0000</td>\n",
       "      <td>C148</td>\n",
       "      <td>C</td>\n",
       "    </tr>\n",
       "    <tr>\n",
       "      <th>890</th>\n",
       "      <td>891</td>\n",
       "      <td>3</td>\n",
       "      <td>Dooley, Mr. Patrick</td>\n",
       "      <td>male</td>\n",
       "      <td>32.0</td>\n",
       "      <td>0</td>\n",
       "      <td>0</td>\n",
       "      <td>370376</td>\n",
       "      <td>7.7500</td>\n",
       "      <td>NaN</td>\n",
       "      <td>Q</td>\n",
       "    </tr>\n",
       "  </tbody>\n",
       "</table>\n",
       "<p>891 rows × 11 columns</p>\n",
       "</div>"
      ],
      "text/plain": [
       "     PassengerId  Pclass                                               Name  \\\n",
       "0              1       3                            Braund, Mr. Owen Harris   \n",
       "1              2       1  Cumings, Mrs. John Bradley (Florence Briggs Th...   \n",
       "2              3       3                             Heikkinen, Miss. Laina   \n",
       "3              4       1       Futrelle, Mrs. Jacques Heath (Lily May Peel)   \n",
       "4              5       3                           Allen, Mr. William Henry   \n",
       "..           ...     ...                                                ...   \n",
       "886          887       2                              Montvila, Rev. Juozas   \n",
       "887          888       1                       Graham, Miss. Margaret Edith   \n",
       "888          889       3           Johnston, Miss. Catherine Helen \"Carrie\"   \n",
       "889          890       1                              Behr, Mr. Karl Howell   \n",
       "890          891       3                                Dooley, Mr. Patrick   \n",
       "\n",
       "        Sex   Age  SibSp  Parch            Ticket     Fare Cabin Embarked  \n",
       "0      male  22.0      1      0         A/5 21171   7.2500   NaN        S  \n",
       "1    female  38.0      1      0          PC 17599  71.2833   C85        C  \n",
       "2    female  26.0      0      0  STON/O2. 3101282   7.9250   NaN        S  \n",
       "3    female  35.0      1      0            113803  53.1000  C123        S  \n",
       "4      male  35.0      0      0            373450   8.0500   NaN        S  \n",
       "..      ...   ...    ...    ...               ...      ...   ...      ...  \n",
       "886    male  27.0      0      0            211536  13.0000   NaN        S  \n",
       "887  female  19.0      0      0            112053  30.0000   B42        S  \n",
       "888  female   NaN      1      2        W./C. 6607  23.4500   NaN        S  \n",
       "889    male  26.0      0      0            111369  30.0000  C148        C  \n",
       "890    male  32.0      0      0            370376   7.7500   NaN        Q  \n",
       "\n",
       "[891 rows x 11 columns]"
      ]
     },
     "execution_count": 96,
     "metadata": {},
     "output_type": "execute_result"
    }
   ],
   "source": [
    "X"
   ]
  },
  {
   "cell_type": "code",
   "execution_count": 55,
   "metadata": {},
   "outputs": [
    {
     "data": {
      "text/plain": [
       "0      0\n",
       "1      1\n",
       "2      1\n",
       "3      1\n",
       "4      0\n",
       "      ..\n",
       "886    0\n",
       "887    1\n",
       "888    0\n",
       "889    1\n",
       "890    0\n",
       "Name: Survived, Length: 891, dtype: int64"
      ]
     },
     "execution_count": 55,
     "metadata": {},
     "output_type": "execute_result"
    }
   ],
   "source": [
    "y"
   ]
  },
  {
   "cell_type": "code",
   "execution_count": 97,
   "metadata": {},
   "outputs": [],
   "source": [
    "if len(y.unique()) > 10: # if more than 10 unique target values, treat as regression\n",
    "    problem_type = 'regression'\n",
    "    automl_settings = {\n",
    "    \"time_budget\": 60,  # total running time in seconds\n",
    "    \"metric\": \"r2\",  # primary metrics can be chosen from: ['accuracy', 'roc_auc', 'roc_auc_weighted', 'roc_auc_ovr', 'roc_auc_ovo', 'f1', 'log_loss', 'mae', 'mse', 'r2'] Check the documentation for more details (https://microsoft.github.io/FLAML/docs/Use-Cases/Task-Oriented-AutoML#optimization-metric)\n",
    "    \"task\": \"regerssion\",  # task type\n",
    "    \"estimator_list\": [\"xgboost\", \"catboost\", \"lgbm\"],\n",
    "    \"log_file_name\": \"flaml.log\",  # flaml log file\n",
    "}\n",
    "else:\n",
    "    automl_settings = {\n",
    "    \"time_budget\": 60,  # total running time in seconds\n",
    "    \"metric\": \"accuracy\",  # primary metrics can be chosen from: ['accuracy', 'roc_auc', 'roc_auc_weighted', 'roc_auc_ovr', 'roc_auc_ovo', 'f1', 'log_loss', 'mae', 'mse', 'r2'] Check the documentation for more details (https://microsoft.github.io/FLAML/docs/Use-Cases/Task-Oriented-AutoML#optimization-metric)\n",
    "    \"task\": \"classification\",  # task type\n",
    "    \"estimator_list\": [\"xgboost\", \"catboost\", \"lgbm\"],\n",
    "    \"log_file_name\": \"flaml.log\",  # flaml log file\n",
    "}\n",
    "    problem_type = 'classification'"
   ]
  },
  {
   "cell_type": "code",
   "execution_count": 98,
   "metadata": {},
   "outputs": [],
   "source": [
    "numerical_transformer = Pipeline(steps=[('scaler', StandardScaler())])\n",
    "categorical_transformer = Pipeline(steps=[('onehot', OneHotEncoder(handle_unknown='ignore'))])\n",
    "preprocessing = ColumnTransformer(\n",
    "    transformers=[\n",
    "        ('num', numerical_transformer, X.select_dtypes(include=['int64', 'float64']).columns),\n",
    "        ('cat', categorical_transformer, X.select_dtypes(include=['object']).columns)\n",
    "    ])"
   ]
  },
  {
   "cell_type": "code",
   "execution_count": 99,
   "metadata": {},
   "outputs": [],
   "source": [
    "# Start the search for the best pipeline\n",
    "automl = AutoML()\n"
   ]
  },
  {
   "cell_type": "code",
   "execution_count": 100,
   "metadata": {},
   "outputs": [],
   "source": [
    "automl_pipeline = Pipeline([\n",
    "    (\"Preprocessing\",preprocessing),\n",
    "    (\"automl\", automl)\n",
    "])"
   ]
  },
  {
   "cell_type": "code",
   "execution_count": 101,
   "metadata": {},
   "outputs": [],
   "source": [
    "search_space = {\n",
    "    'n_estimators': [100, 200, 300],\n",
    "    'max_depth': [2, 4, 6],\n",
    "    'learning_rate': [0.1, 0.2, 0.3],\n",
    "    'feature_fraction': [0.5, 0.7, 1.0]\n",
    "}"
   ]
  },
  {
   "cell_type": "code",
   "execution_count": 102,
   "metadata": {},
   "outputs": [],
   "source": [
    "from sklearn.model_selection import train_test_split\n",
    "\n",
    "# Split data into training and test sets\n",
    "X_train, X_test, y_train, y_test = train_test_split(X, y, test_size=0.2, random_state=42)"
   ]
  },
  {
   "cell_type": "code",
   "execution_count": 109,
   "metadata": {},
   "outputs": [
    {
     "name": "stdout",
     "output_type": "stream",
     "text": [
      "[flaml.automl.logger: 04-30 06:32:28] {1682} INFO - task = classification\n",
      "[flaml.automl.logger: 04-30 06:32:28] {1689} INFO - Data split method: stratified\n",
      "[flaml.automl.logger: 04-30 06:32:28] {1692} INFO - Evaluation method: holdout\n",
      "[flaml.automl.logger: 04-30 06:32:28] {1790} INFO - Minimizing error metric: 1-accuracy\n",
      "[flaml.automl.logger: 04-30 06:32:28] {1900} INFO - List of ML learners in AutoML Run: ['xgboost', 'catboost', 'lgbm']\n",
      "[flaml.automl.logger: 04-30 06:32:28] {2210} INFO - iteration 0, current learner xgboost\n",
      "[flaml.automl.logger: 04-30 06:32:28] {2336} INFO - Estimated sufficient time budget=340s. Estimated necessary time budget=0s.\n",
      "[flaml.automl.logger: 04-30 06:32:28] {2383} INFO -  at 0.1s,\testimator xgboost's best error=0.1644,\tbest estimator xgboost's best error=0.1644\n",
      "[flaml.automl.logger: 04-30 06:32:28] {2210} INFO - iteration 1, current learner lgbm\n",
      "[flaml.automl.logger: 04-30 06:32:28] {2383} INFO -  at 0.1s,\testimator lgbm's best error=0.1781,\tbest estimator xgboost's best error=0.1644\n",
      "[flaml.automl.logger: 04-30 06:32:28] {2210} INFO - iteration 2, current learner xgboost\n",
      "[flaml.automl.logger: 04-30 06:32:28] {2383} INFO -  at 0.1s,\testimator xgboost's best error=0.1507,\tbest estimator xgboost's best error=0.1507\n",
      "[flaml.automl.logger: 04-30 06:32:28] {2210} INFO - iteration 3, current learner lgbm\n",
      "[flaml.automl.logger: 04-30 06:32:28] {2383} INFO -  at 0.2s,\testimator lgbm's best error=0.1781,\tbest estimator xgboost's best error=0.1507\n",
      "[flaml.automl.logger: 04-30 06:32:28] {2210} INFO - iteration 4, current learner xgboost\n",
      "[flaml.automl.logger: 04-30 06:32:28] {2383} INFO -  at 0.2s,\testimator xgboost's best error=0.1507,\tbest estimator xgboost's best error=0.1507\n"
     ]
    },
    {
     "name": "stderr",
     "output_type": "stream",
     "text": [
      "c:\\Users\\raji9\\OneDrive\\Desktop\\New folder\\venv\\lib\\site-packages\\xgboost\\sklearn.py:1395: UserWarning: `use_label_encoder` is deprecated in 1.7.0.\n",
      "  warnings.warn(\"`use_label_encoder` is deprecated in 1.7.0.\")\n",
      "c:\\Users\\raji9\\OneDrive\\Desktop\\New folder\\venv\\lib\\site-packages\\xgboost\\sklearn.py:1395: UserWarning: `use_label_encoder` is deprecated in 1.7.0.\n",
      "  warnings.warn(\"`use_label_encoder` is deprecated in 1.7.0.\")\n",
      "c:\\Users\\raji9\\OneDrive\\Desktop\\New folder\\venv\\lib\\site-packages\\xgboost\\sklearn.py:1395: UserWarning: `use_label_encoder` is deprecated in 1.7.0.\n",
      "  warnings.warn(\"`use_label_encoder` is deprecated in 1.7.0.\")\n"
     ]
    },
    {
     "name": "stdout",
     "output_type": "stream",
     "text": [
      "[flaml.automl.logger: 04-30 06:32:28] {2210} INFO - iteration 5, current learner xgboost\n",
      "[flaml.automl.logger: 04-30 06:32:28] {2383} INFO -  at 0.3s,\testimator xgboost's best error=0.1507,\tbest estimator xgboost's best error=0.1507\n",
      "[flaml.automl.logger: 04-30 06:32:28] {2210} INFO - iteration 6, current learner xgboost\n",
      "[flaml.automl.logger: 04-30 06:32:28] {2383} INFO -  at 0.3s,\testimator xgboost's best error=0.1507,\tbest estimator xgboost's best error=0.1507\n",
      "[flaml.automl.logger: 04-30 06:32:28] {2210} INFO - iteration 7, current learner xgboost\n",
      "[flaml.automl.logger: 04-30 06:32:28] {2383} INFO -  at 0.3s,\testimator xgboost's best error=0.1507,\tbest estimator xgboost's best error=0.1507\n",
      "[flaml.automl.logger: 04-30 06:32:28] {2210} INFO - iteration 8, current learner xgboost\n",
      "[flaml.automl.logger: 04-30 06:32:28] {2383} INFO -  at 0.4s,\testimator xgboost's best error=0.1507,\tbest estimator xgboost's best error=0.1507\n",
      "[flaml.automl.logger: 04-30 06:32:28] {2210} INFO - iteration 9, current learner lgbm\n"
     ]
    },
    {
     "name": "stderr",
     "output_type": "stream",
     "text": [
      "c:\\Users\\raji9\\OneDrive\\Desktop\\New folder\\venv\\lib\\site-packages\\xgboost\\sklearn.py:1395: UserWarning: `use_label_encoder` is deprecated in 1.7.0.\n",
      "  warnings.warn(\"`use_label_encoder` is deprecated in 1.7.0.\")\n",
      "c:\\Users\\raji9\\OneDrive\\Desktop\\New folder\\venv\\lib\\site-packages\\xgboost\\sklearn.py:1395: UserWarning: `use_label_encoder` is deprecated in 1.7.0.\n",
      "  warnings.warn(\"`use_label_encoder` is deprecated in 1.7.0.\")\n",
      "c:\\Users\\raji9\\OneDrive\\Desktop\\New folder\\venv\\lib\\site-packages\\xgboost\\sklearn.py:1395: UserWarning: `use_label_encoder` is deprecated in 1.7.0.\n",
      "  warnings.warn(\"`use_label_encoder` is deprecated in 1.7.0.\")\n",
      "c:\\Users\\raji9\\OneDrive\\Desktop\\New folder\\venv\\lib\\site-packages\\xgboost\\sklearn.py:1395: UserWarning: `use_label_encoder` is deprecated in 1.7.0.\n",
      "  warnings.warn(\"`use_label_encoder` is deprecated in 1.7.0.\")\n"
     ]
    },
    {
     "name": "stdout",
     "output_type": "stream",
     "text": [
      "[flaml.automl.logger: 04-30 06:32:28] {2383} INFO -  at 0.4s,\testimator lgbm's best error=0.1781,\tbest estimator xgboost's best error=0.1507\n",
      "[flaml.automl.logger: 04-30 06:32:28] {2210} INFO - iteration 10, current learner lgbm\n",
      "[flaml.automl.logger: 04-30 06:32:28] {2383} INFO -  at 0.5s,\testimator lgbm's best error=0.1644,\tbest estimator xgboost's best error=0.1507\n",
      "[flaml.automl.logger: 04-30 06:32:28] {2210} INFO - iteration 11, current learner xgboost\n",
      "[flaml.automl.logger: 04-30 06:32:28] {2383} INFO -  at 0.6s,\testimator xgboost's best error=0.1507,\tbest estimator xgboost's best error=0.1507\n",
      "[flaml.automl.logger: 04-30 06:32:28] {2210} INFO - iteration 12, current learner xgboost\n",
      "[flaml.automl.logger: 04-30 06:32:28] {2383} INFO -  at 0.6s,\testimator xgboost's best error=0.1507,\tbest estimator xgboost's best error=0.1507\n",
      "[flaml.automl.logger: 04-30 06:32:28] {2210} INFO - iteration 13, current learner lgbm\n"
     ]
    },
    {
     "name": "stderr",
     "output_type": "stream",
     "text": [
      "c:\\Users\\raji9\\OneDrive\\Desktop\\New folder\\venv\\lib\\site-packages\\xgboost\\sklearn.py:1395: UserWarning: `use_label_encoder` is deprecated in 1.7.0.\n",
      "  warnings.warn(\"`use_label_encoder` is deprecated in 1.7.0.\")\n",
      "c:\\Users\\raji9\\OneDrive\\Desktop\\New folder\\venv\\lib\\site-packages\\xgboost\\sklearn.py:1395: UserWarning: `use_label_encoder` is deprecated in 1.7.0.\n",
      "  warnings.warn(\"`use_label_encoder` is deprecated in 1.7.0.\")\n"
     ]
    },
    {
     "name": "stdout",
     "output_type": "stream",
     "text": [
      "[flaml.automl.logger: 04-30 06:32:28] {2383} INFO -  at 0.7s,\testimator lgbm's best error=0.1644,\tbest estimator xgboost's best error=0.1507\n",
      "[flaml.automl.logger: 04-30 06:32:28] {2210} INFO - iteration 14, current learner xgboost\n",
      "[flaml.automl.logger: 04-30 06:32:29] {2383} INFO -  at 0.8s,\testimator xgboost's best error=0.1507,\tbest estimator xgboost's best error=0.1507\n",
      "[flaml.automl.logger: 04-30 06:32:29] {2210} INFO - iteration 15, current learner lgbm\n",
      "[flaml.automl.logger: 04-30 06:32:29] {2383} INFO -  at 0.8s,\testimator lgbm's best error=0.1644,\tbest estimator xgboost's best error=0.1507\n",
      "[flaml.automl.logger: 04-30 06:32:29] {2210} INFO - iteration 16, current learner catboost\n"
     ]
    },
    {
     "name": "stderr",
     "output_type": "stream",
     "text": [
      "c:\\Users\\raji9\\OneDrive\\Desktop\\New folder\\venv\\lib\\site-packages\\xgboost\\sklearn.py:1395: UserWarning: `use_label_encoder` is deprecated in 1.7.0.\n",
      "  warnings.warn(\"`use_label_encoder` is deprecated in 1.7.0.\")\n"
     ]
    },
    {
     "name": "stdout",
     "output_type": "stream",
     "text": [
      "[flaml.automl.logger: 04-30 06:32:29] {2383} INFO -  at 1.6s,\testimator catboost's best error=0.1781,\tbest estimator xgboost's best error=0.1507\n",
      "[flaml.automl.logger: 04-30 06:32:29] {2210} INFO - iteration 17, current learner xgboost\n",
      "[flaml.automl.logger: 04-30 06:32:29] {2383} INFO -  at 1.6s,\testimator xgboost's best error=0.1507,\tbest estimator xgboost's best error=0.1507\n",
      "[flaml.automl.logger: 04-30 06:32:29] {2210} INFO - iteration 18, current learner lgbm\n",
      "[flaml.automl.logger: 04-30 06:32:29] {2383} INFO -  at 1.7s,\testimator lgbm's best error=0.1644,\tbest estimator xgboost's best error=0.1507\n",
      "[flaml.automl.logger: 04-30 06:32:29] {2210} INFO - iteration 19, current learner catboost\n"
     ]
    },
    {
     "name": "stderr",
     "output_type": "stream",
     "text": [
      "c:\\Users\\raji9\\OneDrive\\Desktop\\New folder\\venv\\lib\\site-packages\\xgboost\\sklearn.py:1395: UserWarning: `use_label_encoder` is deprecated in 1.7.0.\n",
      "  warnings.warn(\"`use_label_encoder` is deprecated in 1.7.0.\")\n"
     ]
    },
    {
     "name": "stdout",
     "output_type": "stream",
     "text": [
      "[flaml.automl.logger: 04-30 06:32:30] {2383} INFO -  at 2.2s,\testimator catboost's best error=0.1507,\tbest estimator xgboost's best error=0.1507\n",
      "[flaml.automl.logger: 04-30 06:32:30] {2210} INFO - iteration 20, current learner catboost\n",
      "[flaml.automl.logger: 04-30 06:32:31] {2383} INFO -  at 2.8s,\testimator catboost's best error=0.1507,\tbest estimator xgboost's best error=0.1507\n",
      "[flaml.automl.logger: 04-30 06:32:31] {2210} INFO - iteration 21, current learner xgboost\n",
      "[flaml.automl.logger: 04-30 06:32:31] {2383} INFO -  at 2.8s,\testimator xgboost's best error=0.1507,\tbest estimator xgboost's best error=0.1507\n",
      "[flaml.automl.logger: 04-30 06:32:31] {2210} INFO - iteration 22, current learner xgboost\n",
      "[flaml.automl.logger: 04-30 06:32:31] {2383} INFO -  at 2.9s,\testimator xgboost's best error=0.1507,\tbest estimator xgboost's best error=0.1507\n",
      "[flaml.automl.logger: 04-30 06:32:31] {2210} INFO - iteration 23, current learner lgbm\n",
      "[flaml.automl.logger: 04-30 06:32:31] {2383} INFO -  at 3.0s,\testimator lgbm's best error=0.1507,\tbest estimator xgboost's best error=0.1507\n"
     ]
    },
    {
     "name": "stderr",
     "output_type": "stream",
     "text": [
      "c:\\Users\\raji9\\OneDrive\\Desktop\\New folder\\venv\\lib\\site-packages\\xgboost\\sklearn.py:1395: UserWarning: `use_label_encoder` is deprecated in 1.7.0.\n",
      "  warnings.warn(\"`use_label_encoder` is deprecated in 1.7.0.\")\n",
      "c:\\Users\\raji9\\OneDrive\\Desktop\\New folder\\venv\\lib\\site-packages\\xgboost\\sklearn.py:1395: UserWarning: `use_label_encoder` is deprecated in 1.7.0.\n",
      "  warnings.warn(\"`use_label_encoder` is deprecated in 1.7.0.\")\n"
     ]
    },
    {
     "name": "stdout",
     "output_type": "stream",
     "text": [
      "[flaml.automl.logger: 04-30 06:32:31] {2210} INFO - iteration 24, current learner lgbm\n",
      "[flaml.automl.logger: 04-30 06:32:31] {2383} INFO -  at 3.0s,\testimator lgbm's best error=0.1507,\tbest estimator xgboost's best error=0.1507\n",
      "[flaml.automl.logger: 04-30 06:32:31] {2210} INFO - iteration 25, current learner catboost\n",
      "[flaml.automl.logger: 04-30 06:32:32] {2383} INFO -  at 3.8s,\testimator catboost's best error=0.1507,\tbest estimator xgboost's best error=0.1507\n",
      "[flaml.automl.logger: 04-30 06:32:32] {2210} INFO - iteration 26, current learner lgbm\n",
      "[flaml.automl.logger: 04-30 06:32:32] {2383} INFO -  at 3.9s,\testimator lgbm's best error=0.1507,\tbest estimator xgboost's best error=0.1507\n",
      "[flaml.automl.logger: 04-30 06:32:32] {2210} INFO - iteration 27, current learner lgbm\n",
      "[flaml.automl.logger: 04-30 06:32:32] {2383} INFO -  at 3.9s,\testimator lgbm's best error=0.1507,\tbest estimator xgboost's best error=0.1507\n",
      "[flaml.automl.logger: 04-30 06:32:32] {2210} INFO - iteration 28, current learner lgbm\n",
      "[flaml.automl.logger: 04-30 06:32:32] {2383} INFO -  at 4.0s,\testimator lgbm's best error=0.1507,\tbest estimator xgboost's best error=0.1507\n",
      "[flaml.automl.logger: 04-30 06:32:32] {2210} INFO - iteration 29, current learner xgboost\n",
      "[flaml.automl.logger: 04-30 06:32:32] {2383} INFO -  at 4.0s,\testimator xgboost's best error=0.1507,\tbest estimator xgboost's best error=0.1507\n",
      "[flaml.automl.logger: 04-30 06:32:32] {2210} INFO - iteration 30, current learner xgboost\n",
      "[flaml.automl.logger: 04-30 06:32:32] {2383} INFO -  at 4.1s,\testimator xgboost's best error=0.1507,\tbest estimator xgboost's best error=0.1507\n",
      "[flaml.automl.logger: 04-30 06:32:32] {2210} INFO - iteration 31, current learner xgboost\n",
      "[flaml.automl.logger: 04-30 06:32:32] {2383} INFO -  at 4.1s,\testimator xgboost's best error=0.1507,\tbest estimator xgboost's best error=0.1507\n",
      "[flaml.automl.logger: 04-30 06:32:32] {2210} INFO - iteration 32, current learner lgbm\n",
      "[flaml.automl.logger: 04-30 06:32:32] {2383} INFO -  at 4.2s,\testimator lgbm's best error=0.1507,\tbest estimator xgboost's best error=0.1507\n",
      "[flaml.automl.logger: 04-30 06:32:32] {2210} INFO - iteration 33, current learner xgboost\n"
     ]
    },
    {
     "name": "stderr",
     "output_type": "stream",
     "text": [
      "c:\\Users\\raji9\\OneDrive\\Desktop\\New folder\\venv\\lib\\site-packages\\xgboost\\sklearn.py:1395: UserWarning: `use_label_encoder` is deprecated in 1.7.0.\n",
      "  warnings.warn(\"`use_label_encoder` is deprecated in 1.7.0.\")\n",
      "c:\\Users\\raji9\\OneDrive\\Desktop\\New folder\\venv\\lib\\site-packages\\xgboost\\sklearn.py:1395: UserWarning: `use_label_encoder` is deprecated in 1.7.0.\n",
      "  warnings.warn(\"`use_label_encoder` is deprecated in 1.7.0.\")\n",
      "c:\\Users\\raji9\\OneDrive\\Desktop\\New folder\\venv\\lib\\site-packages\\xgboost\\sklearn.py:1395: UserWarning: `use_label_encoder` is deprecated in 1.7.0.\n",
      "  warnings.warn(\"`use_label_encoder` is deprecated in 1.7.0.\")\n"
     ]
    },
    {
     "name": "stdout",
     "output_type": "stream",
     "text": [
      "[flaml.automl.logger: 04-30 06:32:32] {2383} INFO -  at 4.2s,\testimator xgboost's best error=0.1507,\tbest estimator xgboost's best error=0.1507\n",
      "[flaml.automl.logger: 04-30 06:32:32] {2210} INFO - iteration 34, current learner lgbm\n",
      "[flaml.automl.logger: 04-30 06:32:32] {2383} INFO -  at 4.3s,\testimator lgbm's best error=0.1507,\tbest estimator xgboost's best error=0.1507\n",
      "[flaml.automl.logger: 04-30 06:32:32] {2210} INFO - iteration 35, current learner lgbm\n",
      "[flaml.automl.logger: 04-30 06:32:32] {2383} INFO -  at 4.3s,\testimator lgbm's best error=0.1507,\tbest estimator xgboost's best error=0.1507\n",
      "[flaml.automl.logger: 04-30 06:32:32] {2210} INFO - iteration 36, current learner lgbm\n",
      "[flaml.automl.logger: 04-30 06:32:32] {2383} INFO -  at 4.4s,\testimator lgbm's best error=0.1507,\tbest estimator xgboost's best error=0.1507\n"
     ]
    },
    {
     "name": "stderr",
     "output_type": "stream",
     "text": [
      "c:\\Users\\raji9\\OneDrive\\Desktop\\New folder\\venv\\lib\\site-packages\\xgboost\\sklearn.py:1395: UserWarning: `use_label_encoder` is deprecated in 1.7.0.\n",
      "  warnings.warn(\"`use_label_encoder` is deprecated in 1.7.0.\")\n"
     ]
    },
    {
     "name": "stdout",
     "output_type": "stream",
     "text": [
      "[flaml.automl.logger: 04-30 06:32:32] {2210} INFO - iteration 37, current learner lgbm\n",
      "[flaml.automl.logger: 04-30 06:32:32] {2383} INFO -  at 4.4s,\testimator lgbm's best error=0.1507,\tbest estimator xgboost's best error=0.1507\n",
      "[flaml.automl.logger: 04-30 06:32:32] {2210} INFO - iteration 38, current learner catboost\n",
      "[flaml.automl.logger: 04-30 06:32:33] {2383} INFO -  at 5.0s,\testimator catboost's best error=0.1507,\tbest estimator xgboost's best error=0.1507\n",
      "[flaml.automl.logger: 04-30 06:32:33] {2210} INFO - iteration 39, current learner lgbm\n",
      "[flaml.automl.logger: 04-30 06:32:33] {2383} INFO -  at 5.0s,\testimator lgbm's best error=0.1507,\tbest estimator xgboost's best error=0.1507\n",
      "[flaml.automl.logger: 04-30 06:32:33] {2210} INFO - iteration 40, current learner lgbm\n",
      "[flaml.automl.logger: 04-30 06:32:33] {2383} INFO -  at 5.0s,\testimator lgbm's best error=0.1507,\tbest estimator xgboost's best error=0.1507\n",
      "[flaml.automl.logger: 04-30 06:32:33] {2210} INFO - iteration 41, current learner xgboost\n",
      "[flaml.automl.logger: 04-30 06:32:33] {2383} INFO -  at 5.1s,\testimator xgboost's best error=0.1507,\tbest estimator xgboost's best error=0.1507\n",
      "[flaml.automl.logger: 04-30 06:32:33] {2210} INFO - iteration 42, current learner lgbm\n",
      "[flaml.automl.logger: 04-30 06:32:33] {2383} INFO -  at 5.1s,\testimator lgbm's best error=0.1507,\tbest estimator xgboost's best error=0.1507\n",
      "[flaml.automl.logger: 04-30 06:32:33] {2210} INFO - iteration 43, current learner lgbm\n",
      "[flaml.automl.logger: 04-30 06:32:33] {2383} INFO -  at 5.2s,\testimator lgbm's best error=0.1507,\tbest estimator xgboost's best error=0.1507\n",
      "[flaml.automl.logger: 04-30 06:32:33] {2210} INFO - iteration 44, current learner lgbm\n",
      "[flaml.automl.logger: 04-30 06:32:33] {2383} INFO -  at 5.2s,\testimator lgbm's best error=0.1507,\tbest estimator xgboost's best error=0.1507\n",
      "[flaml.automl.logger: 04-30 06:32:33] {2210} INFO - iteration 45, current learner xgboost\n"
     ]
    },
    {
     "name": "stderr",
     "output_type": "stream",
     "text": [
      "c:\\Users\\raji9\\OneDrive\\Desktop\\New folder\\venv\\lib\\site-packages\\xgboost\\sklearn.py:1395: UserWarning: `use_label_encoder` is deprecated in 1.7.0.\n",
      "  warnings.warn(\"`use_label_encoder` is deprecated in 1.7.0.\")\n",
      "c:\\Users\\raji9\\OneDrive\\Desktop\\New folder\\venv\\lib\\site-packages\\xgboost\\sklearn.py:1395: UserWarning: `use_label_encoder` is deprecated in 1.7.0.\n",
      "  warnings.warn(\"`use_label_encoder` is deprecated in 1.7.0.\")\n"
     ]
    },
    {
     "name": "stdout",
     "output_type": "stream",
     "text": [
      "[flaml.automl.logger: 04-30 06:32:33] {2383} INFO -  at 5.4s,\testimator xgboost's best error=0.1507,\tbest estimator xgboost's best error=0.1507\n",
      "[flaml.automl.logger: 04-30 06:32:33] {2210} INFO - iteration 46, current learner lgbm\n",
      "[flaml.automl.logger: 04-30 06:32:33] {2383} INFO -  at 5.5s,\testimator lgbm's best error=0.1507,\tbest estimator xgboost's best error=0.1507\n",
      "[flaml.automl.logger: 04-30 06:32:33] {2210} INFO - iteration 47, current learner xgboost\n",
      "[flaml.automl.logger: 04-30 06:32:33] {2383} INFO -  at 5.5s,\testimator xgboost's best error=0.1507,\tbest estimator xgboost's best error=0.1507\n",
      "[flaml.automl.logger: 04-30 06:32:33] {2210} INFO - iteration 48, current learner catboost\n"
     ]
    },
    {
     "name": "stderr",
     "output_type": "stream",
     "text": [
      "c:\\Users\\raji9\\OneDrive\\Desktop\\New folder\\venv\\lib\\site-packages\\xgboost\\sklearn.py:1395: UserWarning: `use_label_encoder` is deprecated in 1.7.0.\n",
      "  warnings.warn(\"`use_label_encoder` is deprecated in 1.7.0.\")\n"
     ]
    },
    {
     "name": "stdout",
     "output_type": "stream",
     "text": [
      "[flaml.automl.logger: 04-30 06:32:34] {2383} INFO -  at 6.3s,\testimator catboost's best error=0.1507,\tbest estimator xgboost's best error=0.1507\n",
      "[flaml.automl.logger: 04-30 06:32:34] {2210} INFO - iteration 49, current learner lgbm\n",
      "[flaml.automl.logger: 04-30 06:32:34] {2383} INFO -  at 6.3s,\testimator lgbm's best error=0.1507,\tbest estimator xgboost's best error=0.1507\n",
      "[flaml.automl.logger: 04-30 06:32:34] {2210} INFO - iteration 50, current learner xgboost\n",
      "[flaml.automl.logger: 04-30 06:32:34] {2383} INFO -  at 6.4s,\testimator xgboost's best error=0.1507,\tbest estimator xgboost's best error=0.1507\n",
      "[flaml.automl.logger: 04-30 06:32:34] {2210} INFO - iteration 51, current learner xgboost\n",
      "[flaml.automl.logger: 04-30 06:32:34] {2383} INFO -  at 6.4s,\testimator xgboost's best error=0.1507,\tbest estimator xgboost's best error=0.1507\n",
      "[flaml.automl.logger: 04-30 06:32:34] {2210} INFO - iteration 52, current learner xgboost\n",
      "[flaml.automl.logger: 04-30 06:32:34] {2383} INFO -  at 6.5s,\testimator xgboost's best error=0.1507,\tbest estimator xgboost's best error=0.1507\n",
      "[flaml.automl.logger: 04-30 06:32:34] {2210} INFO - iteration 53, current learner xgboost\n"
     ]
    },
    {
     "name": "stderr",
     "output_type": "stream",
     "text": [
      "c:\\Users\\raji9\\OneDrive\\Desktop\\New folder\\venv\\lib\\site-packages\\xgboost\\sklearn.py:1395: UserWarning: `use_label_encoder` is deprecated in 1.7.0.\n",
      "  warnings.warn(\"`use_label_encoder` is deprecated in 1.7.0.\")\n",
      "c:\\Users\\raji9\\OneDrive\\Desktop\\New folder\\venv\\lib\\site-packages\\xgboost\\sklearn.py:1395: UserWarning: `use_label_encoder` is deprecated in 1.7.0.\n",
      "  warnings.warn(\"`use_label_encoder` is deprecated in 1.7.0.\")\n",
      "c:\\Users\\raji9\\OneDrive\\Desktop\\New folder\\venv\\lib\\site-packages\\xgboost\\sklearn.py:1395: UserWarning: `use_label_encoder` is deprecated in 1.7.0.\n",
      "  warnings.warn(\"`use_label_encoder` is deprecated in 1.7.0.\")\n",
      "c:\\Users\\raji9\\OneDrive\\Desktop\\New folder\\venv\\lib\\site-packages\\xgboost\\sklearn.py:1395: UserWarning: `use_label_encoder` is deprecated in 1.7.0.\n",
      "  warnings.warn(\"`use_label_encoder` is deprecated in 1.7.0.\")\n"
     ]
    },
    {
     "name": "stdout",
     "output_type": "stream",
     "text": [
      "[flaml.automl.logger: 04-30 06:32:34] {2383} INFO -  at 6.5s,\testimator xgboost's best error=0.1507,\tbest estimator xgboost's best error=0.1507\n",
      "[flaml.automl.logger: 04-30 06:32:34] {2210} INFO - iteration 54, current learner lgbm\n",
      "[flaml.automl.logger: 04-30 06:32:34] {2383} INFO -  at 6.6s,\testimator lgbm's best error=0.1507,\tbest estimator xgboost's best error=0.1507\n",
      "[flaml.automl.logger: 04-30 06:32:34] {2210} INFO - iteration 55, current learner xgboost\n",
      "[flaml.automl.logger: 04-30 06:32:34] {2383} INFO -  at 6.6s,\testimator xgboost's best error=0.1507,\tbest estimator xgboost's best error=0.1507\n",
      "[flaml.automl.logger: 04-30 06:32:34] {2210} INFO - iteration 56, current learner xgboost\n",
      "[flaml.automl.logger: 04-30 06:32:34] {2383} INFO -  at 6.7s,\testimator xgboost's best error=0.1507,\tbest estimator xgboost's best error=0.1507\n",
      "[flaml.automl.logger: 04-30 06:32:34] {2210} INFO - iteration 57, current learner lgbm\n",
      "[flaml.automl.logger: 04-30 06:32:34] {2383} INFO -  at 6.7s,\testimator lgbm's best error=0.1507,\tbest estimator xgboost's best error=0.1507\n",
      "[flaml.automl.logger: 04-30 06:32:34] {2210} INFO - iteration 58, current learner xgboost\n"
     ]
    },
    {
     "name": "stderr",
     "output_type": "stream",
     "text": [
      "c:\\Users\\raji9\\OneDrive\\Desktop\\New folder\\venv\\lib\\site-packages\\xgboost\\sklearn.py:1395: UserWarning: `use_label_encoder` is deprecated in 1.7.0.\n",
      "  warnings.warn(\"`use_label_encoder` is deprecated in 1.7.0.\")\n",
      "c:\\Users\\raji9\\OneDrive\\Desktop\\New folder\\venv\\lib\\site-packages\\xgboost\\sklearn.py:1395: UserWarning: `use_label_encoder` is deprecated in 1.7.0.\n",
      "  warnings.warn(\"`use_label_encoder` is deprecated in 1.7.0.\")\n",
      "c:\\Users\\raji9\\OneDrive\\Desktop\\New folder\\venv\\lib\\site-packages\\xgboost\\sklearn.py:1395: UserWarning: `use_label_encoder` is deprecated in 1.7.0.\n",
      "  warnings.warn(\"`use_label_encoder` is deprecated in 1.7.0.\")\n"
     ]
    },
    {
     "name": "stdout",
     "output_type": "stream",
     "text": [
      "[flaml.automl.logger: 04-30 06:32:35] {2383} INFO -  at 6.8s,\testimator xgboost's best error=0.1507,\tbest estimator xgboost's best error=0.1507\n",
      "[flaml.automl.logger: 04-30 06:32:35] {2210} INFO - iteration 59, current learner lgbm\n",
      "[flaml.automl.logger: 04-30 06:32:35] {2383} INFO -  at 6.9s,\testimator lgbm's best error=0.1507,\tbest estimator xgboost's best error=0.1507\n",
      "[flaml.automl.logger: 04-30 06:32:35] {2210} INFO - iteration 60, current learner xgboost\n",
      "[flaml.automl.logger: 04-30 06:32:35] {2383} INFO -  at 6.9s,\testimator xgboost's best error=0.1507,\tbest estimator xgboost's best error=0.1507\n",
      "[flaml.automl.logger: 04-30 06:32:35] {2210} INFO - iteration 61, current learner lgbm\n",
      "[flaml.automl.logger: 04-30 06:32:35] {2383} INFO -  at 7.0s,\testimator lgbm's best error=0.1507,\tbest estimator xgboost's best error=0.1507\n",
      "[flaml.automl.logger: 04-30 06:32:35] {2210} INFO - iteration 62, current learner lgbm\n",
      "[flaml.automl.logger: 04-30 06:32:35] {2383} INFO -  at 7.1s,\testimator lgbm's best error=0.1507,\tbest estimator xgboost's best error=0.1507\n"
     ]
    },
    {
     "name": "stderr",
     "output_type": "stream",
     "text": [
      "c:\\Users\\raji9\\OneDrive\\Desktop\\New folder\\venv\\lib\\site-packages\\xgboost\\sklearn.py:1395: UserWarning: `use_label_encoder` is deprecated in 1.7.0.\n",
      "  warnings.warn(\"`use_label_encoder` is deprecated in 1.7.0.\")\n"
     ]
    },
    {
     "name": "stdout",
     "output_type": "stream",
     "text": [
      "[flaml.automl.logger: 04-30 06:32:35] {2210} INFO - iteration 63, current learner xgboost\n",
      "[flaml.automl.logger: 04-30 06:32:35] {2383} INFO -  at 7.2s,\testimator xgboost's best error=0.1507,\tbest estimator xgboost's best error=0.1507\n",
      "[flaml.automl.logger: 04-30 06:32:35] {2210} INFO - iteration 64, current learner catboost\n"
     ]
    },
    {
     "name": "stderr",
     "output_type": "stream",
     "text": [
      "c:\\Users\\raji9\\OneDrive\\Desktop\\New folder\\venv\\lib\\site-packages\\xgboost\\sklearn.py:1395: UserWarning: `use_label_encoder` is deprecated in 1.7.0.\n",
      "  warnings.warn(\"`use_label_encoder` is deprecated in 1.7.0.\")\n"
     ]
    },
    {
     "name": "stdout",
     "output_type": "stream",
     "text": [
      "[flaml.automl.logger: 04-30 06:32:36] {2383} INFO -  at 7.8s,\testimator catboost's best error=0.1507,\tbest estimator xgboost's best error=0.1507\n",
      "[flaml.automl.logger: 04-30 06:32:36] {2210} INFO - iteration 65, current learner lgbm\n",
      "[flaml.automl.logger: 04-30 06:32:36] {2383} INFO -  at 7.9s,\testimator lgbm's best error=0.1507,\tbest estimator xgboost's best error=0.1507\n",
      "[flaml.automl.logger: 04-30 06:32:36] {2210} INFO - iteration 66, current learner catboost\n",
      "[flaml.automl.logger: 04-30 06:32:37] {2383} INFO -  at 9.0s,\testimator catboost's best error=0.1507,\tbest estimator xgboost's best error=0.1507\n",
      "[flaml.automl.logger: 04-30 06:32:37] {2210} INFO - iteration 67, current learner xgboost\n",
      "[flaml.automl.logger: 04-30 06:32:37] {2383} INFO -  at 9.0s,\testimator xgboost's best error=0.1507,\tbest estimator xgboost's best error=0.1507\n",
      "[flaml.automl.logger: 04-30 06:32:37] {2210} INFO - iteration 68, current learner lgbm\n",
      "[flaml.automl.logger: 04-30 06:32:37] {2383} INFO -  at 9.0s,\testimator lgbm's best error=0.1507,\tbest estimator xgboost's best error=0.1507\n",
      "[flaml.automl.logger: 04-30 06:32:37] {2210} INFO - iteration 69, current learner lgbm\n",
      "[flaml.automl.logger: 04-30 06:32:37] {2383} INFO -  at 9.1s,\testimator lgbm's best error=0.1507,\tbest estimator xgboost's best error=0.1507\n",
      "[flaml.automl.logger: 04-30 06:32:37] {2210} INFO - iteration 70, current learner lgbm\n",
      "[flaml.automl.logger: 04-30 06:32:37] {2383} INFO -  at 9.1s,\testimator lgbm's best error=0.1507,\tbest estimator xgboost's best error=0.1507\n",
      "[flaml.automl.logger: 04-30 06:32:37] {2210} INFO - iteration 71, current learner lgbm\n",
      "[flaml.automl.logger: 04-30 06:32:37] {2383} INFO -  at 9.2s,\testimator lgbm's best error=0.1507,\tbest estimator xgboost's best error=0.1507\n"
     ]
    },
    {
     "name": "stderr",
     "output_type": "stream",
     "text": [
      "c:\\Users\\raji9\\OneDrive\\Desktop\\New folder\\venv\\lib\\site-packages\\xgboost\\sklearn.py:1395: UserWarning: `use_label_encoder` is deprecated in 1.7.0.\n",
      "  warnings.warn(\"`use_label_encoder` is deprecated in 1.7.0.\")\n"
     ]
    },
    {
     "name": "stdout",
     "output_type": "stream",
     "text": [
      "[flaml.automl.logger: 04-30 06:32:37] {2210} INFO - iteration 72, current learner lgbm\n",
      "[flaml.automl.logger: 04-30 06:32:37] {2383} INFO -  at 9.2s,\testimator lgbm's best error=0.1507,\tbest estimator xgboost's best error=0.1507\n",
      "[flaml.automl.logger: 04-30 06:32:37] {2210} INFO - iteration 73, current learner lgbm\n",
      "[flaml.automl.logger: 04-30 06:32:37] {2383} INFO -  at 9.2s,\testimator lgbm's best error=0.1507,\tbest estimator xgboost's best error=0.1507\n",
      "[flaml.automl.logger: 04-30 06:32:37] {2210} INFO - iteration 74, current learner xgboost\n",
      "[flaml.automl.logger: 04-30 06:32:37] {2383} INFO -  at 9.3s,\testimator xgboost's best error=0.1507,\tbest estimator xgboost's best error=0.1507\n",
      "[flaml.automl.logger: 04-30 06:32:37] {2210} INFO - iteration 75, current learner xgboost\n",
      "[flaml.automl.logger: 04-30 06:32:37] {2383} INFO -  at 9.4s,\testimator xgboost's best error=0.1507,\tbest estimator xgboost's best error=0.1507\n",
      "[flaml.automl.logger: 04-30 06:32:37] {2210} INFO - iteration 76, current learner lgbm\n",
      "[flaml.automl.logger: 04-30 06:32:37] {2383} INFO -  at 9.4s,\testimator lgbm's best error=0.1507,\tbest estimator xgboost's best error=0.1507\n",
      "[flaml.automl.logger: 04-30 06:32:37] {2210} INFO - iteration 77, current learner catboost\n"
     ]
    },
    {
     "name": "stderr",
     "output_type": "stream",
     "text": [
      "c:\\Users\\raji9\\OneDrive\\Desktop\\New folder\\venv\\lib\\site-packages\\xgboost\\sklearn.py:1395: UserWarning: `use_label_encoder` is deprecated in 1.7.0.\n",
      "  warnings.warn(\"`use_label_encoder` is deprecated in 1.7.0.\")\n",
      "c:\\Users\\raji9\\OneDrive\\Desktop\\New folder\\venv\\lib\\site-packages\\xgboost\\sklearn.py:1395: UserWarning: `use_label_encoder` is deprecated in 1.7.0.\n",
      "  warnings.warn(\"`use_label_encoder` is deprecated in 1.7.0.\")\n"
     ]
    },
    {
     "name": "stdout",
     "output_type": "stream",
     "text": [
      "[flaml.automl.logger: 04-30 06:32:38] {2383} INFO -  at 10.1s,\testimator catboost's best error=0.1507,\tbest estimator xgboost's best error=0.1507\n",
      "[flaml.automl.logger: 04-30 06:32:38] {2210} INFO - iteration 78, current learner xgboost\n",
      "[flaml.automl.logger: 04-30 06:32:38] {2383} INFO -  at 10.2s,\testimator xgboost's best error=0.1507,\tbest estimator xgboost's best error=0.1507\n",
      "[flaml.automl.logger: 04-30 06:32:38] {2210} INFO - iteration 79, current learner lgbm\n",
      "[flaml.automl.logger: 04-30 06:32:38] {2383} INFO -  at 10.2s,\testimator lgbm's best error=0.1507,\tbest estimator xgboost's best error=0.1507\n",
      "[flaml.automl.logger: 04-30 06:32:38] {2210} INFO - iteration 80, current learner xgboost\n",
      "[flaml.automl.logger: 04-30 06:32:38] {2383} INFO -  at 10.3s,\testimator xgboost's best error=0.1507,\tbest estimator xgboost's best error=0.1507\n",
      "[flaml.automl.logger: 04-30 06:32:38] {2210} INFO - iteration 81, current learner lgbm\n"
     ]
    },
    {
     "name": "stderr",
     "output_type": "stream",
     "text": [
      "c:\\Users\\raji9\\OneDrive\\Desktop\\New folder\\venv\\lib\\site-packages\\xgboost\\sklearn.py:1395: UserWarning: `use_label_encoder` is deprecated in 1.7.0.\n",
      "  warnings.warn(\"`use_label_encoder` is deprecated in 1.7.0.\")\n",
      "c:\\Users\\raji9\\OneDrive\\Desktop\\New folder\\venv\\lib\\site-packages\\xgboost\\sklearn.py:1395: UserWarning: `use_label_encoder` is deprecated in 1.7.0.\n",
      "  warnings.warn(\"`use_label_encoder` is deprecated in 1.7.0.\")\n"
     ]
    },
    {
     "name": "stdout",
     "output_type": "stream",
     "text": [
      "[flaml.automl.logger: 04-30 06:32:38] {2383} INFO -  at 10.3s,\testimator lgbm's best error=0.1507,\tbest estimator xgboost's best error=0.1507\n",
      "[flaml.automl.logger: 04-30 06:32:38] {2210} INFO - iteration 82, current learner lgbm\n",
      "[flaml.automl.logger: 04-30 06:32:38] {2383} INFO -  at 10.4s,\testimator lgbm's best error=0.1507,\tbest estimator xgboost's best error=0.1507\n",
      "[flaml.automl.logger: 04-30 06:32:38] {2210} INFO - iteration 83, current learner lgbm\n",
      "[flaml.automl.logger: 04-30 06:32:38] {2383} INFO -  at 10.4s,\testimator lgbm's best error=0.1507,\tbest estimator xgboost's best error=0.1507\n",
      "[flaml.automl.logger: 04-30 06:32:38] {2210} INFO - iteration 84, current learner lgbm\n",
      "[flaml.automl.logger: 04-30 06:32:38] {2383} INFO -  at 10.5s,\testimator lgbm's best error=0.1507,\tbest estimator xgboost's best error=0.1507\n",
      "[flaml.automl.logger: 04-30 06:32:38] {2210} INFO - iteration 85, current learner lgbm\n",
      "[flaml.automl.logger: 04-30 06:32:38] {2383} INFO -  at 10.6s,\testimator lgbm's best error=0.1507,\tbest estimator xgboost's best error=0.1507\n",
      "[flaml.automl.logger: 04-30 06:32:38] {2210} INFO - iteration 86, current learner xgboost\n",
      "[flaml.automl.logger: 04-30 06:32:38] {2383} INFO -  at 10.6s,\testimator xgboost's best error=0.1507,\tbest estimator xgboost's best error=0.1507\n",
      "[flaml.automl.logger: 04-30 06:32:38] {2210} INFO - iteration 87, current learner xgboost\n",
      "[flaml.automl.logger: 04-30 06:32:38] {2383} INFO -  at 10.7s,\testimator xgboost's best error=0.1507,\tbest estimator xgboost's best error=0.1507\n",
      "[flaml.automl.logger: 04-30 06:32:38] {2210} INFO - iteration 88, current learner lgbm\n"
     ]
    },
    {
     "name": "stderr",
     "output_type": "stream",
     "text": [
      "c:\\Users\\raji9\\OneDrive\\Desktop\\New folder\\venv\\lib\\site-packages\\xgboost\\sklearn.py:1395: UserWarning: `use_label_encoder` is deprecated in 1.7.0.\n",
      "  warnings.warn(\"`use_label_encoder` is deprecated in 1.7.0.\")\n",
      "c:\\Users\\raji9\\OneDrive\\Desktop\\New folder\\venv\\lib\\site-packages\\xgboost\\sklearn.py:1395: UserWarning: `use_label_encoder` is deprecated in 1.7.0.\n",
      "  warnings.warn(\"`use_label_encoder` is deprecated in 1.7.0.\")\n"
     ]
    },
    {
     "name": "stdout",
     "output_type": "stream",
     "text": [
      "[flaml.automl.logger: 04-30 06:32:39] {2383} INFO -  at 10.8s,\testimator lgbm's best error=0.1507,\tbest estimator xgboost's best error=0.1507\n",
      "[flaml.automl.logger: 04-30 06:32:39] {2210} INFO - iteration 89, current learner catboost\n",
      "[flaml.automl.logger: 04-30 06:32:39] {2383} INFO -  at 11.4s,\testimator catboost's best error=0.1507,\tbest estimator xgboost's best error=0.1507\n",
      "[flaml.automl.logger: 04-30 06:32:39] {2210} INFO - iteration 90, current learner lgbm\n",
      "[flaml.automl.logger: 04-30 06:32:39] {2383} INFO -  at 11.4s,\testimator lgbm's best error=0.1507,\tbest estimator xgboost's best error=0.1507\n",
      "[flaml.automl.logger: 04-30 06:32:39] {2210} INFO - iteration 91, current learner lgbm\n",
      "[flaml.automl.logger: 04-30 06:32:39] {2383} INFO -  at 11.4s,\testimator lgbm's best error=0.1507,\tbest estimator xgboost's best error=0.1507\n",
      "[flaml.automl.logger: 04-30 06:32:39] {2210} INFO - iteration 92, current learner lgbm\n",
      "[flaml.automl.logger: 04-30 06:32:39] {2383} INFO -  at 11.5s,\testimator lgbm's best error=0.1507,\tbest estimator xgboost's best error=0.1507\n",
      "[flaml.automl.logger: 04-30 06:32:39] {2210} INFO - iteration 93, current learner xgboost\n",
      "[flaml.automl.logger: 04-30 06:32:39] {2383} INFO -  at 11.5s,\testimator xgboost's best error=0.1507,\tbest estimator xgboost's best error=0.1507\n",
      "[flaml.automl.logger: 04-30 06:32:39] {2210} INFO - iteration 94, current learner lgbm\n"
     ]
    },
    {
     "name": "stderr",
     "output_type": "stream",
     "text": [
      "c:\\Users\\raji9\\OneDrive\\Desktop\\New folder\\venv\\lib\\site-packages\\xgboost\\sklearn.py:1395: UserWarning: `use_label_encoder` is deprecated in 1.7.0.\n",
      "  warnings.warn(\"`use_label_encoder` is deprecated in 1.7.0.\")\n"
     ]
    },
    {
     "name": "stdout",
     "output_type": "stream",
     "text": [
      "[flaml.automl.logger: 04-30 06:32:39] {2383} INFO -  at 11.7s,\testimator lgbm's best error=0.1507,\tbest estimator xgboost's best error=0.1507\n",
      "[flaml.automl.logger: 04-30 06:32:39] {2210} INFO - iteration 95, current learner catboost\n",
      "[flaml.automl.logger: 04-30 06:32:40] {2383} INFO -  at 12.3s,\testimator catboost's best error=0.1507,\tbest estimator xgboost's best error=0.1507\n",
      "[flaml.automl.logger: 04-30 06:32:40] {2210} INFO - iteration 96, current learner lgbm\n",
      "[flaml.automl.logger: 04-30 06:32:40] {2383} INFO -  at 12.3s,\testimator lgbm's best error=0.1507,\tbest estimator xgboost's best error=0.1507\n",
      "[flaml.automl.logger: 04-30 06:32:40] {2210} INFO - iteration 97, current learner xgboost\n",
      "[flaml.automl.logger: 04-30 06:32:40] {2383} INFO -  at 12.4s,\testimator xgboost's best error=0.1507,\tbest estimator xgboost's best error=0.1507\n",
      "[flaml.automl.logger: 04-30 06:32:40] {2210} INFO - iteration 98, current learner xgboost\n",
      "[flaml.automl.logger: 04-30 06:32:40] {2383} INFO -  at 12.4s,\testimator xgboost's best error=0.1507,\tbest estimator xgboost's best error=0.1507\n",
      "[flaml.automl.logger: 04-30 06:32:40] {2210} INFO - iteration 99, current learner lgbm\n",
      "[flaml.automl.logger: 04-30 06:32:40] {2383} INFO -  at 12.5s,\testimator lgbm's best error=0.1507,\tbest estimator xgboost's best error=0.1507\n",
      "[flaml.automl.logger: 04-30 06:32:40] {2210} INFO - iteration 100, current learner lgbm\n"
     ]
    },
    {
     "name": "stderr",
     "output_type": "stream",
     "text": [
      "c:\\Users\\raji9\\OneDrive\\Desktop\\New folder\\venv\\lib\\site-packages\\xgboost\\sklearn.py:1395: UserWarning: `use_label_encoder` is deprecated in 1.7.0.\n",
      "  warnings.warn(\"`use_label_encoder` is deprecated in 1.7.0.\")\n",
      "c:\\Users\\raji9\\OneDrive\\Desktop\\New folder\\venv\\lib\\site-packages\\xgboost\\sklearn.py:1395: UserWarning: `use_label_encoder` is deprecated in 1.7.0.\n",
      "  warnings.warn(\"`use_label_encoder` is deprecated in 1.7.0.\")\n"
     ]
    },
    {
     "name": "stdout",
     "output_type": "stream",
     "text": [
      "[flaml.automl.logger: 04-30 06:32:40] {2383} INFO -  at 12.5s,\testimator lgbm's best error=0.1507,\tbest estimator xgboost's best error=0.1507\n",
      "[flaml.automl.logger: 04-30 06:32:40] {2210} INFO - iteration 101, current learner xgboost\n",
      "[flaml.automl.logger: 04-30 06:32:40] {2383} INFO -  at 12.6s,\testimator xgboost's best error=0.1507,\tbest estimator xgboost's best error=0.1507\n",
      "[flaml.automl.logger: 04-30 06:32:40] {2210} INFO - iteration 102, current learner lgbm\n",
      "[flaml.automl.logger: 04-30 06:32:40] {2383} INFO -  at 12.6s,\testimator lgbm's best error=0.1507,\tbest estimator xgboost's best error=0.1507\n",
      "[flaml.automl.logger: 04-30 06:32:40] {2210} INFO - iteration 103, current learner xgboost\n",
      "[flaml.automl.logger: 04-30 06:32:40] {2383} INFO -  at 12.6s,\testimator xgboost's best error=0.1507,\tbest estimator xgboost's best error=0.1507\n",
      "[flaml.automl.logger: 04-30 06:32:40] {2210} INFO - iteration 104, current learner catboost\n"
     ]
    },
    {
     "name": "stderr",
     "output_type": "stream",
     "text": [
      "c:\\Users\\raji9\\OneDrive\\Desktop\\New folder\\venv\\lib\\site-packages\\xgboost\\sklearn.py:1395: UserWarning: `use_label_encoder` is deprecated in 1.7.0.\n",
      "  warnings.warn(\"`use_label_encoder` is deprecated in 1.7.0.\")\n",
      "c:\\Users\\raji9\\OneDrive\\Desktop\\New folder\\venv\\lib\\site-packages\\xgboost\\sklearn.py:1395: UserWarning: `use_label_encoder` is deprecated in 1.7.0.\n",
      "  warnings.warn(\"`use_label_encoder` is deprecated in 1.7.0.\")\n"
     ]
    },
    {
     "name": "stdout",
     "output_type": "stream",
     "text": [
      "[flaml.automl.logger: 04-30 06:32:41] {2383} INFO -  at 13.2s,\testimator catboost's best error=0.1507,\tbest estimator xgboost's best error=0.1507\n",
      "[flaml.automl.logger: 04-30 06:32:41] {2210} INFO - iteration 105, current learner lgbm\n",
      "[flaml.automl.logger: 04-30 06:32:41] {2383} INFO -  at 13.3s,\testimator lgbm's best error=0.1507,\tbest estimator xgboost's best error=0.1507\n",
      "[flaml.automl.logger: 04-30 06:32:41] {2210} INFO - iteration 106, current learner xgboost\n",
      "[flaml.automl.logger: 04-30 06:32:41] {2383} INFO -  at 13.3s,\testimator xgboost's best error=0.1507,\tbest estimator xgboost's best error=0.1507\n",
      "[flaml.automl.logger: 04-30 06:32:41] {2210} INFO - iteration 107, current learner lgbm\n",
      "[flaml.automl.logger: 04-30 06:32:41] {2383} INFO -  at 13.3s,\testimator lgbm's best error=0.1507,\tbest estimator xgboost's best error=0.1507\n",
      "[flaml.automl.logger: 04-30 06:32:41] {2210} INFO - iteration 108, current learner lgbm\n",
      "[flaml.automl.logger: 04-30 06:32:41] {2383} INFO -  at 13.4s,\testimator lgbm's best error=0.1507,\tbest estimator xgboost's best error=0.1507\n",
      "[flaml.automl.logger: 04-30 06:32:41] {2210} INFO - iteration 109, current learner xgboost\n",
      "[flaml.automl.logger: 04-30 06:32:41] {2383} INFO -  at 13.4s,\testimator xgboost's best error=0.1507,\tbest estimator xgboost's best error=0.1507\n",
      "[flaml.automl.logger: 04-30 06:32:41] {2210} INFO - iteration 110, current learner lgbm\n",
      "[flaml.automl.logger: 04-30 06:32:41] {2383} INFO -  at 13.5s,\testimator lgbm's best error=0.1507,\tbest estimator xgboost's best error=0.1507\n"
     ]
    },
    {
     "name": "stderr",
     "output_type": "stream",
     "text": [
      "c:\\Users\\raji9\\OneDrive\\Desktop\\New folder\\venv\\lib\\site-packages\\xgboost\\sklearn.py:1395: UserWarning: `use_label_encoder` is deprecated in 1.7.0.\n",
      "  warnings.warn(\"`use_label_encoder` is deprecated in 1.7.0.\")\n",
      "c:\\Users\\raji9\\OneDrive\\Desktop\\New folder\\venv\\lib\\site-packages\\xgboost\\sklearn.py:1395: UserWarning: `use_label_encoder` is deprecated in 1.7.0.\n",
      "  warnings.warn(\"`use_label_encoder` is deprecated in 1.7.0.\")\n"
     ]
    },
    {
     "name": "stdout",
     "output_type": "stream",
     "text": [
      "[flaml.automl.logger: 04-30 06:32:41] {2210} INFO - iteration 111, current learner lgbm\n",
      "[flaml.automl.logger: 04-30 06:32:41] {2383} INFO -  at 13.5s,\testimator lgbm's best error=0.1507,\tbest estimator xgboost's best error=0.1507\n",
      "[flaml.automl.logger: 04-30 06:32:41] {2210} INFO - iteration 112, current learner lgbm\n",
      "[flaml.automl.logger: 04-30 06:32:41] {2383} INFO -  at 13.6s,\testimator lgbm's best error=0.1507,\tbest estimator xgboost's best error=0.1507\n",
      "[flaml.automl.logger: 04-30 06:32:41] {2210} INFO - iteration 113, current learner xgboost\n",
      "[flaml.automl.logger: 04-30 06:32:41] {2383} INFO -  at 13.6s,\testimator xgboost's best error=0.1507,\tbest estimator xgboost's best error=0.1507\n",
      "[flaml.automl.logger: 04-30 06:32:41] {2210} INFO - iteration 114, current learner xgboost\n",
      "[flaml.automl.logger: 04-30 06:32:41] {2383} INFO -  at 13.7s,\testimator xgboost's best error=0.1507,\tbest estimator xgboost's best error=0.1507\n",
      "[flaml.automl.logger: 04-30 06:32:41] {2210} INFO - iteration 115, current learner lgbm\n",
      "[flaml.automl.logger: 04-30 06:32:41] {2383} INFO -  at 13.7s,\testimator lgbm's best error=0.1507,\tbest estimator xgboost's best error=0.1507\n",
      "[flaml.automl.logger: 04-30 06:32:41] {2210} INFO - iteration 116, current learner lgbm\n",
      "[flaml.automl.logger: 04-30 06:32:42] {2383} INFO -  at 13.8s,\testimator lgbm's best error=0.1507,\tbest estimator xgboost's best error=0.1507\n"
     ]
    },
    {
     "name": "stderr",
     "output_type": "stream",
     "text": [
      "c:\\Users\\raji9\\OneDrive\\Desktop\\New folder\\venv\\lib\\site-packages\\xgboost\\sklearn.py:1395: UserWarning: `use_label_encoder` is deprecated in 1.7.0.\n",
      "  warnings.warn(\"`use_label_encoder` is deprecated in 1.7.0.\")\n",
      "c:\\Users\\raji9\\OneDrive\\Desktop\\New folder\\venv\\lib\\site-packages\\xgboost\\sklearn.py:1395: UserWarning: `use_label_encoder` is deprecated in 1.7.0.\n",
      "  warnings.warn(\"`use_label_encoder` is deprecated in 1.7.0.\")\n"
     ]
    },
    {
     "name": "stdout",
     "output_type": "stream",
     "text": [
      "[flaml.automl.logger: 04-30 06:32:42] {2210} INFO - iteration 117, current learner xgboost\n",
      "[flaml.automl.logger: 04-30 06:32:42] {2383} INFO -  at 13.8s,\testimator xgboost's best error=0.1507,\tbest estimator xgboost's best error=0.1507\n",
      "[flaml.automl.logger: 04-30 06:32:42] {2210} INFO - iteration 118, current learner lgbm\n",
      "[flaml.automl.logger: 04-30 06:32:42] {2383} INFO -  at 13.9s,\testimator lgbm's best error=0.1507,\tbest estimator xgboost's best error=0.1507\n",
      "[flaml.automl.logger: 04-30 06:32:42] {2210} INFO - iteration 119, current learner lgbm\n",
      "[flaml.automl.logger: 04-30 06:32:42] {2383} INFO -  at 13.9s,\testimator lgbm's best error=0.1507,\tbest estimator xgboost's best error=0.1507\n",
      "[flaml.automl.logger: 04-30 06:32:42] {2210} INFO - iteration 120, current learner lgbm\n",
      "[flaml.automl.logger: 04-30 06:32:42] {2383} INFO -  at 13.9s,\testimator lgbm's best error=0.1507,\tbest estimator xgboost's best error=0.1507\n"
     ]
    },
    {
     "name": "stderr",
     "output_type": "stream",
     "text": [
      "c:\\Users\\raji9\\OneDrive\\Desktop\\New folder\\venv\\lib\\site-packages\\xgboost\\sklearn.py:1395: UserWarning: `use_label_encoder` is deprecated in 1.7.0.\n",
      "  warnings.warn(\"`use_label_encoder` is deprecated in 1.7.0.\")\n"
     ]
    },
    {
     "name": "stdout",
     "output_type": "stream",
     "text": [
      "[flaml.automl.logger: 04-30 06:32:42] {2210} INFO - iteration 121, current learner lgbm\n",
      "[flaml.automl.logger: 04-30 06:32:42] {2383} INFO -  at 14.0s,\testimator lgbm's best error=0.1507,\tbest estimator xgboost's best error=0.1507\n",
      "[flaml.automl.logger: 04-30 06:32:42] {2210} INFO - iteration 122, current learner xgboost\n",
      "[flaml.automl.logger: 04-30 06:32:42] {2383} INFO -  at 14.0s,\testimator xgboost's best error=0.1507,\tbest estimator xgboost's best error=0.1507\n",
      "[flaml.automl.logger: 04-30 06:32:42] {2210} INFO - iteration 123, current learner xgboost\n",
      "[flaml.automl.logger: 04-30 06:32:42] {2383} INFO -  at 14.1s,\testimator xgboost's best error=0.1507,\tbest estimator xgboost's best error=0.1507\n",
      "[flaml.automl.logger: 04-30 06:32:42] {2210} INFO - iteration 124, current learner xgboost\n",
      "[flaml.automl.logger: 04-30 06:32:42] {2383} INFO -  at 14.1s,\testimator xgboost's best error=0.1507,\tbest estimator xgboost's best error=0.1507\n",
      "[flaml.automl.logger: 04-30 06:32:42] {2210} INFO - iteration 125, current learner xgboost\n"
     ]
    },
    {
     "name": "stderr",
     "output_type": "stream",
     "text": [
      "c:\\Users\\raji9\\OneDrive\\Desktop\\New folder\\venv\\lib\\site-packages\\xgboost\\sklearn.py:1395: UserWarning: `use_label_encoder` is deprecated in 1.7.0.\n",
      "  warnings.warn(\"`use_label_encoder` is deprecated in 1.7.0.\")\n",
      "c:\\Users\\raji9\\OneDrive\\Desktop\\New folder\\venv\\lib\\site-packages\\xgboost\\sklearn.py:1395: UserWarning: `use_label_encoder` is deprecated in 1.7.0.\n",
      "  warnings.warn(\"`use_label_encoder` is deprecated in 1.7.0.\")\n",
      "c:\\Users\\raji9\\OneDrive\\Desktop\\New folder\\venv\\lib\\site-packages\\xgboost\\sklearn.py:1395: UserWarning: `use_label_encoder` is deprecated in 1.7.0.\n",
      "  warnings.warn(\"`use_label_encoder` is deprecated in 1.7.0.\")\n",
      "c:\\Users\\raji9\\OneDrive\\Desktop\\New folder\\venv\\lib\\site-packages\\xgboost\\sklearn.py:1395: UserWarning: `use_label_encoder` is deprecated in 1.7.0.\n",
      "  warnings.warn(\"`use_label_encoder` is deprecated in 1.7.0.\")\n"
     ]
    },
    {
     "name": "stdout",
     "output_type": "stream",
     "text": [
      "[flaml.automl.logger: 04-30 06:32:42] {2383} INFO -  at 14.4s,\testimator xgboost's best error=0.1507,\tbest estimator xgboost's best error=0.1507\n",
      "[flaml.automl.logger: 04-30 06:32:42] {2210} INFO - iteration 126, current learner xgboost\n",
      "[flaml.automl.logger: 04-30 06:32:42] {2383} INFO -  at 14.5s,\testimator xgboost's best error=0.1507,\tbest estimator xgboost's best error=0.1507\n",
      "[flaml.automl.logger: 04-30 06:32:42] {2210} INFO - iteration 127, current learner lgbm\n",
      "[flaml.automl.logger: 04-30 06:32:42] {2383} INFO -  at 14.5s,\testimator lgbm's best error=0.1507,\tbest estimator xgboost's best error=0.1507\n",
      "[flaml.automl.logger: 04-30 06:32:42] {2210} INFO - iteration 128, current learner catboost\n"
     ]
    },
    {
     "name": "stderr",
     "output_type": "stream",
     "text": [
      "c:\\Users\\raji9\\OneDrive\\Desktop\\New folder\\venv\\lib\\site-packages\\xgboost\\sklearn.py:1395: UserWarning: `use_label_encoder` is deprecated in 1.7.0.\n",
      "  warnings.warn(\"`use_label_encoder` is deprecated in 1.7.0.\")\n"
     ]
    },
    {
     "name": "stdout",
     "output_type": "stream",
     "text": [
      "[flaml.automl.logger: 04-30 06:32:43] {2383} INFO -  at 15.2s,\testimator catboost's best error=0.1507,\tbest estimator xgboost's best error=0.1507\n",
      "[flaml.automl.logger: 04-30 06:32:43] {2210} INFO - iteration 129, current learner catboost\n",
      "[flaml.automl.logger: 04-30 06:32:44] {2383} INFO -  at 15.8s,\testimator catboost's best error=0.1507,\tbest estimator xgboost's best error=0.1507\n",
      "[flaml.automl.logger: 04-30 06:32:44] {2210} INFO - iteration 130, current learner lgbm\n",
      "[flaml.automl.logger: 04-30 06:32:44] {2383} INFO -  at 15.9s,\testimator lgbm's best error=0.1507,\tbest estimator xgboost's best error=0.1507\n",
      "[flaml.automl.logger: 04-30 06:32:44] {2210} INFO - iteration 131, current learner xgboost\n",
      "[flaml.automl.logger: 04-30 06:32:44] {2383} INFO -  at 15.9s,\testimator xgboost's best error=0.1507,\tbest estimator xgboost's best error=0.1507\n",
      "[flaml.automl.logger: 04-30 06:32:44] {2210} INFO - iteration 132, current learner xgboost\n",
      "[flaml.automl.logger: 04-30 06:32:44] {2383} INFO -  at 15.9s,\testimator xgboost's best error=0.1507,\tbest estimator xgboost's best error=0.1507\n",
      "[flaml.automl.logger: 04-30 06:32:44] {2210} INFO - iteration 133, current learner lgbm\n",
      "[flaml.automl.logger: 04-30 06:32:44] {2383} INFO -  at 16.0s,\testimator lgbm's best error=0.1507,\tbest estimator xgboost's best error=0.1507\n",
      "[flaml.automl.logger: 04-30 06:32:44] {2210} INFO - iteration 134, current learner lgbm\n",
      "[flaml.automl.logger: 04-30 06:32:44] {2383} INFO -  at 16.0s,\testimator lgbm's best error=0.1507,\tbest estimator xgboost's best error=0.1507\n",
      "[flaml.automl.logger: 04-30 06:32:44] {2210} INFO - iteration 135, current learner catboost\n"
     ]
    },
    {
     "name": "stderr",
     "output_type": "stream",
     "text": [
      "c:\\Users\\raji9\\OneDrive\\Desktop\\New folder\\venv\\lib\\site-packages\\xgboost\\sklearn.py:1395: UserWarning: `use_label_encoder` is deprecated in 1.7.0.\n",
      "  warnings.warn(\"`use_label_encoder` is deprecated in 1.7.0.\")\n",
      "c:\\Users\\raji9\\OneDrive\\Desktop\\New folder\\venv\\lib\\site-packages\\xgboost\\sklearn.py:1395: UserWarning: `use_label_encoder` is deprecated in 1.7.0.\n",
      "  warnings.warn(\"`use_label_encoder` is deprecated in 1.7.0.\")\n"
     ]
    },
    {
     "name": "stdout",
     "output_type": "stream",
     "text": [
      "[flaml.automl.logger: 04-30 06:32:44] {2383} INFO -  at 16.5s,\testimator catboost's best error=0.1507,\tbest estimator xgboost's best error=0.1507\n",
      "[flaml.automl.logger: 04-30 06:32:44] {2210} INFO - iteration 136, current learner xgboost\n",
      "[flaml.automl.logger: 04-30 06:32:44] {2383} INFO -  at 16.6s,\testimator xgboost's best error=0.1507,\tbest estimator xgboost's best error=0.1507\n",
      "[flaml.automl.logger: 04-30 06:32:44] {2210} INFO - iteration 137, current learner lgbm\n",
      "[flaml.automl.logger: 04-30 06:32:44] {2383} INFO -  at 16.6s,\testimator lgbm's best error=0.1507,\tbest estimator xgboost's best error=0.1507\n",
      "[flaml.automl.logger: 04-30 06:32:44] {2210} INFO - iteration 138, current learner xgboost\n",
      "[flaml.automl.logger: 04-30 06:32:44] {2383} INFO -  at 16.7s,\testimator xgboost's best error=0.1507,\tbest estimator xgboost's best error=0.1507\n",
      "[flaml.automl.logger: 04-30 06:32:44] {2210} INFO - iteration 139, current learner lgbm\n",
      "[flaml.automl.logger: 04-30 06:32:44] {2383} INFO -  at 16.7s,\testimator lgbm's best error=0.1507,\tbest estimator xgboost's best error=0.1507\n",
      "[flaml.automl.logger: 04-30 06:32:44] {2210} INFO - iteration 140, current learner xgboost\n",
      "[flaml.automl.logger: 04-30 06:32:45] {2383} INFO -  at 16.8s,\testimator xgboost's best error=0.1507,\tbest estimator xgboost's best error=0.1507\n"
     ]
    },
    {
     "name": "stderr",
     "output_type": "stream",
     "text": [
      "c:\\Users\\raji9\\OneDrive\\Desktop\\New folder\\venv\\lib\\site-packages\\xgboost\\sklearn.py:1395: UserWarning: `use_label_encoder` is deprecated in 1.7.0.\n",
      "  warnings.warn(\"`use_label_encoder` is deprecated in 1.7.0.\")\n",
      "c:\\Users\\raji9\\OneDrive\\Desktop\\New folder\\venv\\lib\\site-packages\\xgboost\\sklearn.py:1395: UserWarning: `use_label_encoder` is deprecated in 1.7.0.\n",
      "  warnings.warn(\"`use_label_encoder` is deprecated in 1.7.0.\")\n",
      "c:\\Users\\raji9\\OneDrive\\Desktop\\New folder\\venv\\lib\\site-packages\\xgboost\\sklearn.py:1395: UserWarning: `use_label_encoder` is deprecated in 1.7.0.\n",
      "  warnings.warn(\"`use_label_encoder` is deprecated in 1.7.0.\")\n"
     ]
    },
    {
     "name": "stdout",
     "output_type": "stream",
     "text": [
      "[flaml.automl.logger: 04-30 06:32:45] {2210} INFO - iteration 141, current learner lgbm\n",
      "[flaml.automl.logger: 04-30 06:32:45] {2383} INFO -  at 16.8s,\testimator lgbm's best error=0.1507,\tbest estimator xgboost's best error=0.1507\n",
      "[flaml.automl.logger: 04-30 06:32:45] {2210} INFO - iteration 142, current learner lgbm\n",
      "[flaml.automl.logger: 04-30 06:32:45] {2383} INFO -  at 16.8s,\testimator lgbm's best error=0.1507,\tbest estimator xgboost's best error=0.1507\n",
      "[flaml.automl.logger: 04-30 06:32:45] {2210} INFO - iteration 143, current learner catboost\n",
      "[flaml.automl.logger: 04-30 06:32:45] {2383} INFO -  at 17.3s,\testimator catboost's best error=0.1507,\tbest estimator xgboost's best error=0.1507\n",
      "[flaml.automl.logger: 04-30 06:32:45] {2210} INFO - iteration 144, current learner xgboost\n",
      "[flaml.automl.logger: 04-30 06:32:45] {2383} INFO -  at 17.4s,\testimator xgboost's best error=0.1507,\tbest estimator xgboost's best error=0.1507\n",
      "[flaml.automl.logger: 04-30 06:32:45] {2210} INFO - iteration 145, current learner xgboost\n",
      "[flaml.automl.logger: 04-30 06:32:45] {2383} INFO -  at 17.4s,\testimator xgboost's best error=0.1507,\tbest estimator xgboost's best error=0.1507\n",
      "[flaml.automl.logger: 04-30 06:32:45] {2210} INFO - iteration 146, current learner xgboost\n",
      "[flaml.automl.logger: 04-30 06:32:45] {2383} INFO -  at 17.5s,\testimator xgboost's best error=0.1507,\tbest estimator xgboost's best error=0.1507\n",
      "[flaml.automl.logger: 04-30 06:32:45] {2210} INFO - iteration 147, current learner xgboost\n",
      "[flaml.automl.logger: 04-30 06:32:45] {2383} INFO -  at 17.5s,\testimator xgboost's best error=0.1507,\tbest estimator xgboost's best error=0.1507\n",
      "[flaml.automl.logger: 04-30 06:32:45] {2210} INFO - iteration 148, current learner xgboost\n"
     ]
    },
    {
     "name": "stderr",
     "output_type": "stream",
     "text": [
      "c:\\Users\\raji9\\OneDrive\\Desktop\\New folder\\venv\\lib\\site-packages\\xgboost\\sklearn.py:1395: UserWarning: `use_label_encoder` is deprecated in 1.7.0.\n",
      "  warnings.warn(\"`use_label_encoder` is deprecated in 1.7.0.\")\n",
      "c:\\Users\\raji9\\OneDrive\\Desktop\\New folder\\venv\\lib\\site-packages\\xgboost\\sklearn.py:1395: UserWarning: `use_label_encoder` is deprecated in 1.7.0.\n",
      "  warnings.warn(\"`use_label_encoder` is deprecated in 1.7.0.\")\n",
      "c:\\Users\\raji9\\OneDrive\\Desktop\\New folder\\venv\\lib\\site-packages\\xgboost\\sklearn.py:1395: UserWarning: `use_label_encoder` is deprecated in 1.7.0.\n",
      "  warnings.warn(\"`use_label_encoder` is deprecated in 1.7.0.\")\n",
      "c:\\Users\\raji9\\OneDrive\\Desktop\\New folder\\venv\\lib\\site-packages\\xgboost\\sklearn.py:1395: UserWarning: `use_label_encoder` is deprecated in 1.7.0.\n",
      "  warnings.warn(\"`use_label_encoder` is deprecated in 1.7.0.\")\n",
      "c:\\Users\\raji9\\OneDrive\\Desktop\\New folder\\venv\\lib\\site-packages\\xgboost\\sklearn.py:1395: UserWarning: `use_label_encoder` is deprecated in 1.7.0.\n",
      "  warnings.warn(\"`use_label_encoder` is deprecated in 1.7.0.\")\n"
     ]
    },
    {
     "name": "stdout",
     "output_type": "stream",
     "text": [
      "[flaml.automl.logger: 04-30 06:32:45] {2383} INFO -  at 17.5s,\testimator xgboost's best error=0.1507,\tbest estimator xgboost's best error=0.1507\n",
      "[flaml.automl.logger: 04-30 06:32:45] {2210} INFO - iteration 149, current learner xgboost\n",
      "[flaml.automl.logger: 04-30 06:32:45] {2383} INFO -  at 17.6s,\testimator xgboost's best error=0.1507,\tbest estimator xgboost's best error=0.1507\n",
      "[flaml.automl.logger: 04-30 06:32:45] {2210} INFO - iteration 150, current learner lgbm\n",
      "[flaml.automl.logger: 04-30 06:32:45] {2383} INFO -  at 17.7s,\testimator lgbm's best error=0.1507,\tbest estimator xgboost's best error=0.1507\n",
      "[flaml.automl.logger: 04-30 06:32:45] {2210} INFO - iteration 151, current learner lgbm\n",
      "[flaml.automl.logger: 04-30 06:32:46] {2383} INFO -  at 17.7s,\testimator lgbm's best error=0.1507,\tbest estimator xgboost's best error=0.1507\n"
     ]
    },
    {
     "name": "stderr",
     "output_type": "stream",
     "text": [
      "c:\\Users\\raji9\\OneDrive\\Desktop\\New folder\\venv\\lib\\site-packages\\xgboost\\sklearn.py:1395: UserWarning: `use_label_encoder` is deprecated in 1.7.0.\n",
      "  warnings.warn(\"`use_label_encoder` is deprecated in 1.7.0.\")\n"
     ]
    },
    {
     "name": "stdout",
     "output_type": "stream",
     "text": [
      "[flaml.automl.logger: 04-30 06:32:46] {2210} INFO - iteration 152, current learner xgboost\n",
      "[flaml.automl.logger: 04-30 06:32:46] {2383} INFO -  at 17.8s,\testimator xgboost's best error=0.1507,\tbest estimator xgboost's best error=0.1507\n",
      "[flaml.automl.logger: 04-30 06:32:46] {2210} INFO - iteration 153, current learner xgboost\n",
      "[flaml.automl.logger: 04-30 06:32:46] {2383} INFO -  at 17.9s,\testimator xgboost's best error=0.1507,\tbest estimator xgboost's best error=0.1507\n",
      "[flaml.automl.logger: 04-30 06:32:46] {2210} INFO - iteration 154, current learner lgbm\n",
      "[flaml.automl.logger: 04-30 06:32:46] {2383} INFO -  at 17.9s,\testimator lgbm's best error=0.1507,\tbest estimator xgboost's best error=0.1507\n",
      "[flaml.automl.logger: 04-30 06:32:46] {2210} INFO - iteration 155, current learner lgbm\n"
     ]
    },
    {
     "name": "stderr",
     "output_type": "stream",
     "text": [
      "c:\\Users\\raji9\\OneDrive\\Desktop\\New folder\\venv\\lib\\site-packages\\xgboost\\sklearn.py:1395: UserWarning: `use_label_encoder` is deprecated in 1.7.0.\n",
      "  warnings.warn(\"`use_label_encoder` is deprecated in 1.7.0.\")\n",
      "c:\\Users\\raji9\\OneDrive\\Desktop\\New folder\\venv\\lib\\site-packages\\xgboost\\sklearn.py:1395: UserWarning: `use_label_encoder` is deprecated in 1.7.0.\n",
      "  warnings.warn(\"`use_label_encoder` is deprecated in 1.7.0.\")\n"
     ]
    },
    {
     "name": "stdout",
     "output_type": "stream",
     "text": [
      "[flaml.automl.logger: 04-30 06:32:46] {2383} INFO -  at 18.0s,\testimator lgbm's best error=0.1507,\tbest estimator xgboost's best error=0.1507\n",
      "[flaml.automl.logger: 04-30 06:32:46] {2210} INFO - iteration 156, current learner xgboost\n",
      "[flaml.automl.logger: 04-30 06:32:46] {2383} INFO -  at 18.2s,\testimator xgboost's best error=0.1507,\tbest estimator xgboost's best error=0.1507\n",
      "[flaml.automl.logger: 04-30 06:32:46] {2210} INFO - iteration 157, current learner xgboost\n",
      "[flaml.automl.logger: 04-30 06:32:46] {2383} INFO -  at 18.2s,\testimator xgboost's best error=0.1507,\tbest estimator xgboost's best error=0.1507\n"
     ]
    },
    {
     "name": "stderr",
     "output_type": "stream",
     "text": [
      "c:\\Users\\raji9\\OneDrive\\Desktop\\New folder\\venv\\lib\\site-packages\\xgboost\\sklearn.py:1395: UserWarning: `use_label_encoder` is deprecated in 1.7.0.\n",
      "  warnings.warn(\"`use_label_encoder` is deprecated in 1.7.0.\")\n",
      "c:\\Users\\raji9\\OneDrive\\Desktop\\New folder\\venv\\lib\\site-packages\\xgboost\\sklearn.py:1395: UserWarning: `use_label_encoder` is deprecated in 1.7.0.\n",
      "  warnings.warn(\"`use_label_encoder` is deprecated in 1.7.0.\")\n"
     ]
    },
    {
     "name": "stdout",
     "output_type": "stream",
     "text": [
      "[flaml.automl.logger: 04-30 06:32:46] {2210} INFO - iteration 158, current learner lgbm\n",
      "[flaml.automl.logger: 04-30 06:32:46] {2383} INFO -  at 18.3s,\testimator lgbm's best error=0.1507,\tbest estimator xgboost's best error=0.1507\n",
      "[flaml.automl.logger: 04-30 06:32:46] {2210} INFO - iteration 159, current learner xgboost\n",
      "[flaml.automl.logger: 04-30 06:32:46] {2383} INFO -  at 18.3s,\testimator xgboost's best error=0.1507,\tbest estimator xgboost's best error=0.1507\n",
      "[flaml.automl.logger: 04-30 06:32:46] {2210} INFO - iteration 160, current learner lgbm\n",
      "[flaml.automl.logger: 04-30 06:32:46] {2383} INFO -  at 18.4s,\testimator lgbm's best error=0.1507,\tbest estimator xgboost's best error=0.1507\n",
      "[flaml.automl.logger: 04-30 06:32:46] {2210} INFO - iteration 161, current learner lgbm\n",
      "[flaml.automl.logger: 04-30 06:32:46] {2383} INFO -  at 18.4s,\testimator lgbm's best error=0.1507,\tbest estimator xgboost's best error=0.1507\n",
      "[flaml.automl.logger: 04-30 06:32:46] {2210} INFO - iteration 162, current learner lgbm\n",
      "[flaml.automl.logger: 04-30 06:32:46] {2383} INFO -  at 18.4s,\testimator lgbm's best error=0.1507,\tbest estimator xgboost's best error=0.1507\n",
      "[flaml.automl.logger: 04-30 06:32:46] {2210} INFO - iteration 163, current learner xgboost\n"
     ]
    },
    {
     "name": "stderr",
     "output_type": "stream",
     "text": [
      "c:\\Users\\raji9\\OneDrive\\Desktop\\New folder\\venv\\lib\\site-packages\\xgboost\\sklearn.py:1395: UserWarning: `use_label_encoder` is deprecated in 1.7.0.\n",
      "  warnings.warn(\"`use_label_encoder` is deprecated in 1.7.0.\")\n",
      "c:\\Users\\raji9\\OneDrive\\Desktop\\New folder\\venv\\lib\\site-packages\\xgboost\\sklearn.py:1395: UserWarning: `use_label_encoder` is deprecated in 1.7.0.\n",
      "  warnings.warn(\"`use_label_encoder` is deprecated in 1.7.0.\")\n"
     ]
    },
    {
     "name": "stdout",
     "output_type": "stream",
     "text": [
      "[flaml.automl.logger: 04-30 06:32:46] {2383} INFO -  at 18.5s,\testimator xgboost's best error=0.1507,\tbest estimator xgboost's best error=0.1507\n",
      "[flaml.automl.logger: 04-30 06:32:46] {2210} INFO - iteration 164, current learner catboost\n",
      "[flaml.automl.logger: 04-30 06:32:48] {2383} INFO -  at 20.7s,\testimator catboost's best error=0.1507,\tbest estimator xgboost's best error=0.1507\n",
      "[flaml.automl.logger: 04-30 06:32:48] {2210} INFO - iteration 165, current learner lgbm\n",
      "[flaml.automl.logger: 04-30 06:32:48] {2383} INFO -  at 20.7s,\testimator lgbm's best error=0.1507,\tbest estimator xgboost's best error=0.1507\n",
      "[flaml.automl.logger: 04-30 06:32:48] {2210} INFO - iteration 166, current learner lgbm\n",
      "[flaml.automl.logger: 04-30 06:32:48] {2383} INFO -  at 20.7s,\testimator lgbm's best error=0.1507,\tbest estimator xgboost's best error=0.1507\n",
      "[flaml.automl.logger: 04-30 06:32:48] {2210} INFO - iteration 167, current learner xgboost\n",
      "[flaml.automl.logger: 04-30 06:32:49] {2383} INFO -  at 20.8s,\testimator xgboost's best error=0.1507,\tbest estimator xgboost's best error=0.1507\n",
      "[flaml.automl.logger: 04-30 06:32:49] {2210} INFO - iteration 168, current learner xgboost\n",
      "[flaml.automl.logger: 04-30 06:32:49] {2383} INFO -  at 20.8s,\testimator xgboost's best error=0.1507,\tbest estimator xgboost's best error=0.1507\n",
      "[flaml.automl.logger: 04-30 06:32:49] {2210} INFO - iteration 169, current learner xgboost\n",
      "[flaml.automl.logger: 04-30 06:32:49] {2383} INFO -  at 20.9s,\testimator xgboost's best error=0.1507,\tbest estimator xgboost's best error=0.1507\n",
      "[flaml.automl.logger: 04-30 06:32:49] {2210} INFO - iteration 170, current learner catboost\n"
     ]
    },
    {
     "name": "stderr",
     "output_type": "stream",
     "text": [
      "c:\\Users\\raji9\\OneDrive\\Desktop\\New folder\\venv\\lib\\site-packages\\xgboost\\sklearn.py:1395: UserWarning: `use_label_encoder` is deprecated in 1.7.0.\n",
      "  warnings.warn(\"`use_label_encoder` is deprecated in 1.7.0.\")\n",
      "c:\\Users\\raji9\\OneDrive\\Desktop\\New folder\\venv\\lib\\site-packages\\xgboost\\sklearn.py:1395: UserWarning: `use_label_encoder` is deprecated in 1.7.0.\n",
      "  warnings.warn(\"`use_label_encoder` is deprecated in 1.7.0.\")\n",
      "c:\\Users\\raji9\\OneDrive\\Desktop\\New folder\\venv\\lib\\site-packages\\xgboost\\sklearn.py:1395: UserWarning: `use_label_encoder` is deprecated in 1.7.0.\n",
      "  warnings.warn(\"`use_label_encoder` is deprecated in 1.7.0.\")\n"
     ]
    },
    {
     "name": "stdout",
     "output_type": "stream",
     "text": [
      "[flaml.automl.logger: 04-30 06:32:52] {2383} INFO -  at 23.8s,\testimator catboost's best error=0.1507,\tbest estimator xgboost's best error=0.1507\n",
      "[flaml.automl.logger: 04-30 06:32:52] {2210} INFO - iteration 171, current learner lgbm\n",
      "[flaml.automl.logger: 04-30 06:32:52] {2383} INFO -  at 23.9s,\testimator lgbm's best error=0.1507,\tbest estimator xgboost's best error=0.1507\n",
      "[flaml.automl.logger: 04-30 06:32:52] {2210} INFO - iteration 172, current learner lgbm\n",
      "[flaml.automl.logger: 04-30 06:32:52] {2383} INFO -  at 23.9s,\testimator lgbm's best error=0.1507,\tbest estimator xgboost's best error=0.1507\n",
      "[flaml.automl.logger: 04-30 06:32:52] {2210} INFO - iteration 173, current learner xgboost\n",
      "[flaml.automl.logger: 04-30 06:32:52] {2383} INFO -  at 24.0s,\testimator xgboost's best error=0.1507,\tbest estimator xgboost's best error=0.1507\n",
      "[flaml.automl.logger: 04-30 06:32:52] {2210} INFO - iteration 174, current learner lgbm\n",
      "[flaml.automl.logger: 04-30 06:32:52] {2383} INFO -  at 24.0s,\testimator lgbm's best error=0.1507,\tbest estimator xgboost's best error=0.1507\n",
      "[flaml.automl.logger: 04-30 06:32:52] {2210} INFO - iteration 175, current learner lgbm\n",
      "[flaml.automl.logger: 04-30 06:32:52] {2383} INFO -  at 24.1s,\testimator lgbm's best error=0.1507,\tbest estimator xgboost's best error=0.1507\n",
      "[flaml.automl.logger: 04-30 06:32:52] {2210} INFO - iteration 176, current learner xgboost\n",
      "[flaml.automl.logger: 04-30 06:32:52] {2383} INFO -  at 24.1s,\testimator xgboost's best error=0.1507,\tbest estimator xgboost's best error=0.1507\n"
     ]
    },
    {
     "name": "stderr",
     "output_type": "stream",
     "text": [
      "c:\\Users\\raji9\\OneDrive\\Desktop\\New folder\\venv\\lib\\site-packages\\xgboost\\sklearn.py:1395: UserWarning: `use_label_encoder` is deprecated in 1.7.0.\n",
      "  warnings.warn(\"`use_label_encoder` is deprecated in 1.7.0.\")\n",
      "c:\\Users\\raji9\\OneDrive\\Desktop\\New folder\\venv\\lib\\site-packages\\xgboost\\sklearn.py:1395: UserWarning: `use_label_encoder` is deprecated in 1.7.0.\n",
      "  warnings.warn(\"`use_label_encoder` is deprecated in 1.7.0.\")\n"
     ]
    },
    {
     "name": "stdout",
     "output_type": "stream",
     "text": [
      "[flaml.automl.logger: 04-30 06:32:52] {2210} INFO - iteration 177, current learner lgbm\n",
      "[flaml.automl.logger: 04-30 06:32:52] {2383} INFO -  at 24.2s,\testimator lgbm's best error=0.1507,\tbest estimator xgboost's best error=0.1507\n",
      "[flaml.automl.logger: 04-30 06:32:52] {2210} INFO - iteration 178, current learner lgbm\n",
      "[flaml.automl.logger: 04-30 06:32:52] {2383} INFO -  at 24.3s,\testimator lgbm's best error=0.1507,\tbest estimator xgboost's best error=0.1507\n",
      "[flaml.automl.logger: 04-30 06:32:52] {2210} INFO - iteration 179, current learner lgbm\n",
      "[flaml.automl.logger: 04-30 06:32:52] {2383} INFO -  at 24.4s,\testimator lgbm's best error=0.1507,\tbest estimator xgboost's best error=0.1507\n",
      "[flaml.automl.logger: 04-30 06:32:52] {2210} INFO - iteration 180, current learner xgboost\n",
      "[flaml.automl.logger: 04-30 06:32:52] {2383} INFO -  at 24.4s,\testimator xgboost's best error=0.1507,\tbest estimator xgboost's best error=0.1507\n",
      "[flaml.automl.logger: 04-30 06:32:52] {2210} INFO - iteration 181, current learner xgboost\n",
      "[flaml.automl.logger: 04-30 06:32:52] {2383} INFO -  at 24.5s,\testimator xgboost's best error=0.1507,\tbest estimator xgboost's best error=0.1507\n",
      "[flaml.automl.logger: 04-30 06:32:52] {2210} INFO - iteration 182, current learner xgboost\n",
      "[flaml.automl.logger: 04-30 06:32:52] {2383} INFO -  at 24.6s,\testimator xgboost's best error=0.1507,\tbest estimator xgboost's best error=0.1507\n",
      "[flaml.automl.logger: 04-30 06:32:52] {2210} INFO - iteration 183, current learner lgbm\n"
     ]
    },
    {
     "name": "stderr",
     "output_type": "stream",
     "text": [
      "c:\\Users\\raji9\\OneDrive\\Desktop\\New folder\\venv\\lib\\site-packages\\xgboost\\sklearn.py:1395: UserWarning: `use_label_encoder` is deprecated in 1.7.0.\n",
      "  warnings.warn(\"`use_label_encoder` is deprecated in 1.7.0.\")\n",
      "c:\\Users\\raji9\\OneDrive\\Desktop\\New folder\\venv\\lib\\site-packages\\xgboost\\sklearn.py:1395: UserWarning: `use_label_encoder` is deprecated in 1.7.0.\n",
      "  warnings.warn(\"`use_label_encoder` is deprecated in 1.7.0.\")\n",
      "c:\\Users\\raji9\\OneDrive\\Desktop\\New folder\\venv\\lib\\site-packages\\xgboost\\sklearn.py:1395: UserWarning: `use_label_encoder` is deprecated in 1.7.0.\n",
      "  warnings.warn(\"`use_label_encoder` is deprecated in 1.7.0.\")\n"
     ]
    },
    {
     "name": "stdout",
     "output_type": "stream",
     "text": [
      "[flaml.automl.logger: 04-30 06:32:53] {2383} INFO -  at 24.8s,\testimator lgbm's best error=0.1507,\tbest estimator xgboost's best error=0.1507\n",
      "[flaml.automl.logger: 04-30 06:32:53] {2210} INFO - iteration 184, current learner xgboost\n",
      "[flaml.automl.logger: 04-30 06:32:53] {2383} INFO -  at 24.9s,\testimator xgboost's best error=0.1507,\tbest estimator xgboost's best error=0.1507\n",
      "[flaml.automl.logger: 04-30 06:32:53] {2210} INFO - iteration 185, current learner lgbm\n",
      "[flaml.automl.logger: 04-30 06:32:53] {2383} INFO -  at 24.9s,\testimator lgbm's best error=0.1507,\tbest estimator xgboost's best error=0.1507\n",
      "[flaml.automl.logger: 04-30 06:32:53] {2210} INFO - iteration 186, current learner xgboost\n"
     ]
    },
    {
     "name": "stderr",
     "output_type": "stream",
     "text": [
      "c:\\Users\\raji9\\OneDrive\\Desktop\\New folder\\venv\\lib\\site-packages\\xgboost\\sklearn.py:1395: UserWarning: `use_label_encoder` is deprecated in 1.7.0.\n",
      "  warnings.warn(\"`use_label_encoder` is deprecated in 1.7.0.\")\n",
      "c:\\Users\\raji9\\OneDrive\\Desktop\\New folder\\venv\\lib\\site-packages\\xgboost\\sklearn.py:1395: UserWarning: `use_label_encoder` is deprecated in 1.7.0.\n",
      "  warnings.warn(\"`use_label_encoder` is deprecated in 1.7.0.\")\n"
     ]
    },
    {
     "name": "stdout",
     "output_type": "stream",
     "text": [
      "[flaml.automl.logger: 04-30 06:32:53] {2383} INFO -  at 25.0s,\testimator xgboost's best error=0.1507,\tbest estimator xgboost's best error=0.1507\n",
      "[flaml.automl.logger: 04-30 06:32:53] {2210} INFO - iteration 187, current learner xgboost\n",
      "[flaml.automl.logger: 04-30 06:32:53] {2383} INFO -  at 25.1s,\testimator xgboost's best error=0.1507,\tbest estimator xgboost's best error=0.1507\n",
      "[flaml.automl.logger: 04-30 06:32:53] {2210} INFO - iteration 188, current learner lgbm\n",
      "[flaml.automl.logger: 04-30 06:32:53] {2383} INFO -  at 25.1s,\testimator lgbm's best error=0.1507,\tbest estimator xgboost's best error=0.1507\n",
      "[flaml.automl.logger: 04-30 06:32:53] {2210} INFO - iteration 189, current learner xgboost\n"
     ]
    },
    {
     "name": "stderr",
     "output_type": "stream",
     "text": [
      "c:\\Users\\raji9\\OneDrive\\Desktop\\New folder\\venv\\lib\\site-packages\\xgboost\\sklearn.py:1395: UserWarning: `use_label_encoder` is deprecated in 1.7.0.\n",
      "  warnings.warn(\"`use_label_encoder` is deprecated in 1.7.0.\")\n",
      "c:\\Users\\raji9\\OneDrive\\Desktop\\New folder\\venv\\lib\\site-packages\\xgboost\\sklearn.py:1395: UserWarning: `use_label_encoder` is deprecated in 1.7.0.\n",
      "  warnings.warn(\"`use_label_encoder` is deprecated in 1.7.0.\")\n"
     ]
    },
    {
     "name": "stdout",
     "output_type": "stream",
     "text": [
      "[flaml.automl.logger: 04-30 06:32:53] {2383} INFO -  at 25.3s,\testimator xgboost's best error=0.1507,\tbest estimator xgboost's best error=0.1507\n",
      "[flaml.automl.logger: 04-30 06:32:53] {2210} INFO - iteration 190, current learner lgbm\n",
      "[flaml.automl.logger: 04-30 06:32:53] {2383} INFO -  at 25.5s,\testimator lgbm's best error=0.1507,\tbest estimator xgboost's best error=0.1507\n",
      "[flaml.automl.logger: 04-30 06:32:53] {2210} INFO - iteration 191, current learner catboost\n",
      "[flaml.automl.logger: 04-30 06:32:55] {2383} INFO -  at 27.3s,\testimator catboost's best error=0.1507,\tbest estimator xgboost's best error=0.1507\n",
      "[flaml.automl.logger: 04-30 06:32:55] {2210} INFO - iteration 192, current learner lgbm\n",
      "[flaml.automl.logger: 04-30 06:32:55] {2383} INFO -  at 27.4s,\testimator lgbm's best error=0.1507,\tbest estimator xgboost's best error=0.1507\n",
      "[flaml.automl.logger: 04-30 06:32:55] {2210} INFO - iteration 193, current learner xgboost\n",
      "[flaml.automl.logger: 04-30 06:32:55] {2383} INFO -  at 27.4s,\testimator xgboost's best error=0.1507,\tbest estimator xgboost's best error=0.1507\n",
      "[flaml.automl.logger: 04-30 06:32:55] {2210} INFO - iteration 194, current learner xgboost\n",
      "[flaml.automl.logger: 04-30 06:32:55] {2383} INFO -  at 27.4s,\testimator xgboost's best error=0.1507,\tbest estimator xgboost's best error=0.1507\n",
      "[flaml.automl.logger: 04-30 06:32:55] {2210} INFO - iteration 195, current learner lgbm\n",
      "[flaml.automl.logger: 04-30 06:32:55] {2383} INFO -  at 27.5s,\testimator lgbm's best error=0.1507,\tbest estimator xgboost's best error=0.1507\n",
      "[flaml.automl.logger: 04-30 06:32:55] {2210} INFO - iteration 196, current learner lgbm\n",
      "[flaml.automl.logger: 04-30 06:32:55] {2383} INFO -  at 27.5s,\testimator lgbm's best error=0.1507,\tbest estimator xgboost's best error=0.1507\n",
      "[flaml.automl.logger: 04-30 06:32:55] {2210} INFO - iteration 197, current learner lgbm\n",
      "[flaml.automl.logger: 04-30 06:32:55] {2383} INFO -  at 27.5s,\testimator lgbm's best error=0.1507,\tbest estimator xgboost's best error=0.1507\n"
     ]
    },
    {
     "name": "stderr",
     "output_type": "stream",
     "text": [
      "c:\\Users\\raji9\\OneDrive\\Desktop\\New folder\\venv\\lib\\site-packages\\xgboost\\sklearn.py:1395: UserWarning: `use_label_encoder` is deprecated in 1.7.0.\n",
      "  warnings.warn(\"`use_label_encoder` is deprecated in 1.7.0.\")\n",
      "c:\\Users\\raji9\\OneDrive\\Desktop\\New folder\\venv\\lib\\site-packages\\xgboost\\sklearn.py:1395: UserWarning: `use_label_encoder` is deprecated in 1.7.0.\n",
      "  warnings.warn(\"`use_label_encoder` is deprecated in 1.7.0.\")\n"
     ]
    },
    {
     "name": "stdout",
     "output_type": "stream",
     "text": [
      "[flaml.automl.logger: 04-30 06:32:55] {2210} INFO - iteration 198, current learner lgbm\n",
      "[flaml.automl.logger: 04-30 06:32:55] {2383} INFO -  at 27.6s,\testimator lgbm's best error=0.1507,\tbest estimator xgboost's best error=0.1507\n",
      "[flaml.automl.logger: 04-30 06:32:55] {2210} INFO - iteration 199, current learner xgboost\n",
      "[flaml.automl.logger: 04-30 06:32:55] {2383} INFO -  at 27.6s,\testimator xgboost's best error=0.1507,\tbest estimator xgboost's best error=0.1507\n",
      "[flaml.automl.logger: 04-30 06:32:55] {2210} INFO - iteration 200, current learner xgboost\n",
      "[flaml.automl.logger: 04-30 06:32:55] {2383} INFO -  at 27.7s,\testimator xgboost's best error=0.1507,\tbest estimator xgboost's best error=0.1507\n",
      "[flaml.automl.logger: 04-30 06:32:55] {2210} INFO - iteration 201, current learner lgbm\n",
      "[flaml.automl.logger: 04-30 06:32:55] {2383} INFO -  at 27.7s,\testimator lgbm's best error=0.1507,\tbest estimator xgboost's best error=0.1507\n",
      "[flaml.automl.logger: 04-30 06:32:55] {2210} INFO - iteration 202, current learner lgbm\n",
      "[flaml.automl.logger: 04-30 06:32:56] {2383} INFO -  at 27.8s,\testimator lgbm's best error=0.1507,\tbest estimator xgboost's best error=0.1507\n",
      "[flaml.automl.logger: 04-30 06:32:56] {2210} INFO - iteration 203, current learner lgbm\n",
      "[flaml.automl.logger: 04-30 06:32:56] {2383} INFO -  at 27.8s,\testimator lgbm's best error=0.1507,\tbest estimator xgboost's best error=0.1507\n"
     ]
    },
    {
     "name": "stderr",
     "output_type": "stream",
     "text": [
      "c:\\Users\\raji9\\OneDrive\\Desktop\\New folder\\venv\\lib\\site-packages\\xgboost\\sklearn.py:1395: UserWarning: `use_label_encoder` is deprecated in 1.7.0.\n",
      "  warnings.warn(\"`use_label_encoder` is deprecated in 1.7.0.\")\n",
      "c:\\Users\\raji9\\OneDrive\\Desktop\\New folder\\venv\\lib\\site-packages\\xgboost\\sklearn.py:1395: UserWarning: `use_label_encoder` is deprecated in 1.7.0.\n",
      "  warnings.warn(\"`use_label_encoder` is deprecated in 1.7.0.\")\n"
     ]
    },
    {
     "name": "stdout",
     "output_type": "stream",
     "text": [
      "[flaml.automl.logger: 04-30 06:32:56] {2210} INFO - iteration 204, current learner catboost\n",
      "[flaml.automl.logger: 04-30 06:32:58] {2383} INFO -  at 30.1s,\testimator catboost's best error=0.1507,\tbest estimator xgboost's best error=0.1507\n",
      "[flaml.automl.logger: 04-30 06:32:58] {2210} INFO - iteration 205, current learner lgbm\n",
      "[flaml.automl.logger: 04-30 06:32:58] {2383} INFO -  at 30.2s,\testimator lgbm's best error=0.1507,\tbest estimator xgboost's best error=0.1507\n",
      "[flaml.automl.logger: 04-30 06:32:58] {2210} INFO - iteration 206, current learner lgbm\n",
      "[flaml.automl.logger: 04-30 06:32:58] {2383} INFO -  at 30.2s,\testimator lgbm's best error=0.1507,\tbest estimator xgboost's best error=0.1507\n",
      "[flaml.automl.logger: 04-30 06:32:58] {2210} INFO - iteration 207, current learner xgboost\n",
      "[flaml.automl.logger: 04-30 06:32:58] {2383} INFO -  at 30.2s,\testimator xgboost's best error=0.1507,\tbest estimator xgboost's best error=0.1507\n",
      "[flaml.automl.logger: 04-30 06:32:58] {2210} INFO - iteration 208, current learner catboost\n"
     ]
    },
    {
     "name": "stderr",
     "output_type": "stream",
     "text": [
      "c:\\Users\\raji9\\OneDrive\\Desktop\\New folder\\venv\\lib\\site-packages\\xgboost\\sklearn.py:1395: UserWarning: `use_label_encoder` is deprecated in 1.7.0.\n",
      "  warnings.warn(\"`use_label_encoder` is deprecated in 1.7.0.\")\n"
     ]
    },
    {
     "name": "stdout",
     "output_type": "stream",
     "text": [
      "[flaml.automl.logger: 04-30 06:33:00] {2383} INFO -  at 32.6s,\testimator catboost's best error=0.1507,\tbest estimator xgboost's best error=0.1507\n",
      "[flaml.automl.logger: 04-30 06:33:00] {2210} INFO - iteration 209, current learner lgbm\n",
      "[flaml.automl.logger: 04-30 06:33:00] {2383} INFO -  at 32.6s,\testimator lgbm's best error=0.1507,\tbest estimator xgboost's best error=0.1507\n",
      "[flaml.automl.logger: 04-30 06:33:00] {2210} INFO - iteration 210, current learner catboost\n",
      "[flaml.automl.logger: 04-30 06:33:03] {2383} INFO -  at 34.9s,\testimator catboost's best error=0.1507,\tbest estimator xgboost's best error=0.1507\n",
      "[flaml.automl.logger: 04-30 06:33:03] {2210} INFO - iteration 211, current learner lgbm\n",
      "[flaml.automl.logger: 04-30 06:33:03] {2383} INFO -  at 34.9s,\testimator lgbm's best error=0.1507,\tbest estimator xgboost's best error=0.1507\n",
      "[flaml.automl.logger: 04-30 06:33:03] {2210} INFO - iteration 212, current learner lgbm\n",
      "[flaml.automl.logger: 04-30 06:33:03] {2383} INFO -  at 35.0s,\testimator lgbm's best error=0.1507,\tbest estimator xgboost's best error=0.1507\n",
      "[flaml.automl.logger: 04-30 06:33:03] {2210} INFO - iteration 213, current learner xgboost\n",
      "[flaml.automl.logger: 04-30 06:33:03] {2383} INFO -  at 35.0s,\testimator xgboost's best error=0.1507,\tbest estimator xgboost's best error=0.1507\n",
      "[flaml.automl.logger: 04-30 06:33:03] {2210} INFO - iteration 214, current learner lgbm\n",
      "[flaml.automl.logger: 04-30 06:33:03] {2383} INFO -  at 35.0s,\testimator lgbm's best error=0.1507,\tbest estimator xgboost's best error=0.1507\n",
      "[flaml.automl.logger: 04-30 06:33:03] {2210} INFO - iteration 215, current learner xgboost\n",
      "[flaml.automl.logger: 04-30 06:33:03] {2383} INFO -  at 35.1s,\testimator xgboost's best error=0.1507,\tbest estimator xgboost's best error=0.1507\n",
      "[flaml.automl.logger: 04-30 06:33:03] {2210} INFO - iteration 216, current learner xgboost\n",
      "[flaml.automl.logger: 04-30 06:33:03] {2383} INFO -  at 35.1s,\testimator xgboost's best error=0.1507,\tbest estimator xgboost's best error=0.1507\n",
      "[flaml.automl.logger: 04-30 06:33:03] {2210} INFO - iteration 217, current learner xgboost\n"
     ]
    },
    {
     "name": "stderr",
     "output_type": "stream",
     "text": [
      "c:\\Users\\raji9\\OneDrive\\Desktop\\New folder\\venv\\lib\\site-packages\\xgboost\\sklearn.py:1395: UserWarning: `use_label_encoder` is deprecated in 1.7.0.\n",
      "  warnings.warn(\"`use_label_encoder` is deprecated in 1.7.0.\")\n",
      "c:\\Users\\raji9\\OneDrive\\Desktop\\New folder\\venv\\lib\\site-packages\\xgboost\\sklearn.py:1395: UserWarning: `use_label_encoder` is deprecated in 1.7.0.\n",
      "  warnings.warn(\"`use_label_encoder` is deprecated in 1.7.0.\")\n",
      "c:\\Users\\raji9\\OneDrive\\Desktop\\New folder\\venv\\lib\\site-packages\\xgboost\\sklearn.py:1395: UserWarning: `use_label_encoder` is deprecated in 1.7.0.\n",
      "  warnings.warn(\"`use_label_encoder` is deprecated in 1.7.0.\")\n",
      "c:\\Users\\raji9\\OneDrive\\Desktop\\New folder\\venv\\lib\\site-packages\\xgboost\\sklearn.py:1395: UserWarning: `use_label_encoder` is deprecated in 1.7.0.\n",
      "  warnings.warn(\"`use_label_encoder` is deprecated in 1.7.0.\")\n"
     ]
    },
    {
     "name": "stdout",
     "output_type": "stream",
     "text": [
      "[flaml.automl.logger: 04-30 06:33:03] {2383} INFO -  at 35.3s,\testimator xgboost's best error=0.1507,\tbest estimator xgboost's best error=0.1507\n",
      "[flaml.automl.logger: 04-30 06:33:03] {2210} INFO - iteration 218, current learner catboost\n",
      "[flaml.automl.logger: 04-30 06:33:05] {2383} INFO -  at 37.6s,\testimator catboost's best error=0.1507,\tbest estimator xgboost's best error=0.1507\n",
      "[flaml.automl.logger: 04-30 06:33:05] {2210} INFO - iteration 219, current learner xgboost\n",
      "[flaml.automl.logger: 04-30 06:33:05] {2383} INFO -  at 37.6s,\testimator xgboost's best error=0.1507,\tbest estimator xgboost's best error=0.1507\n",
      "[flaml.automl.logger: 04-30 06:33:05] {2210} INFO - iteration 220, current learner lgbm\n",
      "[flaml.automl.logger: 04-30 06:33:05] {2383} INFO -  at 37.6s,\testimator lgbm's best error=0.1507,\tbest estimator xgboost's best error=0.1507\n",
      "[flaml.automl.logger: 04-30 06:33:05] {2210} INFO - iteration 221, current learner lgbm\n",
      "[flaml.automl.logger: 04-30 06:33:05] {2383} INFO -  at 37.7s,\testimator lgbm's best error=0.1507,\tbest estimator xgboost's best error=0.1507\n",
      "[flaml.automl.logger: 04-30 06:33:05] {2210} INFO - iteration 222, current learner xgboost\n",
      "[flaml.automl.logger: 04-30 06:33:05] {2383} INFO -  at 37.7s,\testimator xgboost's best error=0.1507,\tbest estimator xgboost's best error=0.1507\n",
      "[flaml.automl.logger: 04-30 06:33:05] {2210} INFO - iteration 223, current learner xgboost\n",
      "[flaml.automl.logger: 04-30 06:33:06] {2383} INFO -  at 37.7s,\testimator xgboost's best error=0.1507,\tbest estimator xgboost's best error=0.1507\n"
     ]
    },
    {
     "name": "stderr",
     "output_type": "stream",
     "text": [
      "c:\\Users\\raji9\\OneDrive\\Desktop\\New folder\\venv\\lib\\site-packages\\xgboost\\sklearn.py:1395: UserWarning: `use_label_encoder` is deprecated in 1.7.0.\n",
      "  warnings.warn(\"`use_label_encoder` is deprecated in 1.7.0.\")\n",
      "c:\\Users\\raji9\\OneDrive\\Desktop\\New folder\\venv\\lib\\site-packages\\xgboost\\sklearn.py:1395: UserWarning: `use_label_encoder` is deprecated in 1.7.0.\n",
      "  warnings.warn(\"`use_label_encoder` is deprecated in 1.7.0.\")\n",
      "c:\\Users\\raji9\\OneDrive\\Desktop\\New folder\\venv\\lib\\site-packages\\xgboost\\sklearn.py:1395: UserWarning: `use_label_encoder` is deprecated in 1.7.0.\n",
      "  warnings.warn(\"`use_label_encoder` is deprecated in 1.7.0.\")\n"
     ]
    },
    {
     "name": "stdout",
     "output_type": "stream",
     "text": [
      "[flaml.automl.logger: 04-30 06:33:06] {2210} INFO - iteration 224, current learner xgboost\n",
      "[flaml.automl.logger: 04-30 06:33:06] {2383} INFO -  at 37.8s,\testimator xgboost's best error=0.1507,\tbest estimator xgboost's best error=0.1507\n",
      "[flaml.automl.logger: 04-30 06:33:06] {2210} INFO - iteration 225, current learner xgboost\n",
      "[flaml.automl.logger: 04-30 06:33:06] {2383} INFO -  at 37.8s,\testimator xgboost's best error=0.1507,\tbest estimator xgboost's best error=0.1507\n",
      "[flaml.automl.logger: 04-30 06:33:06] {2210} INFO - iteration 226, current learner lgbm\n",
      "[flaml.automl.logger: 04-30 06:33:06] {2383} INFO -  at 37.9s,\testimator lgbm's best error=0.1507,\tbest estimator xgboost's best error=0.1507\n",
      "[flaml.automl.logger: 04-30 06:33:06] {2210} INFO - iteration 227, current learner xgboost\n",
      "[flaml.automl.logger: 04-30 06:33:06] {2383} INFO -  at 37.9s,\testimator xgboost's best error=0.1507,\tbest estimator xgboost's best error=0.1507\n",
      "[flaml.automl.logger: 04-30 06:33:06] {2210} INFO - iteration 228, current learner lgbm\n",
      "[flaml.automl.logger: 04-30 06:33:06] {2383} INFO -  at 38.0s,\testimator lgbm's best error=0.1507,\tbest estimator xgboost's best error=0.1507\n"
     ]
    },
    {
     "name": "stderr",
     "output_type": "stream",
     "text": [
      "c:\\Users\\raji9\\OneDrive\\Desktop\\New folder\\venv\\lib\\site-packages\\xgboost\\sklearn.py:1395: UserWarning: `use_label_encoder` is deprecated in 1.7.0.\n",
      "  warnings.warn(\"`use_label_encoder` is deprecated in 1.7.0.\")\n",
      "c:\\Users\\raji9\\OneDrive\\Desktop\\New folder\\venv\\lib\\site-packages\\xgboost\\sklearn.py:1395: UserWarning: `use_label_encoder` is deprecated in 1.7.0.\n",
      "  warnings.warn(\"`use_label_encoder` is deprecated in 1.7.0.\")\n",
      "c:\\Users\\raji9\\OneDrive\\Desktop\\New folder\\venv\\lib\\site-packages\\xgboost\\sklearn.py:1395: UserWarning: `use_label_encoder` is deprecated in 1.7.0.\n",
      "  warnings.warn(\"`use_label_encoder` is deprecated in 1.7.0.\")\n"
     ]
    },
    {
     "name": "stdout",
     "output_type": "stream",
     "text": [
      "[flaml.automl.logger: 04-30 06:33:06] {2210} INFO - iteration 229, current learner lgbm\n",
      "[flaml.automl.logger: 04-30 06:33:06] {2383} INFO -  at 38.0s,\testimator lgbm's best error=0.1507,\tbest estimator xgboost's best error=0.1507\n",
      "[flaml.automl.logger: 04-30 06:33:06] {2210} INFO - iteration 230, current learner lgbm\n",
      "[flaml.automl.logger: 04-30 06:33:06] {2383} INFO -  at 38.0s,\testimator lgbm's best error=0.1507,\tbest estimator xgboost's best error=0.1507\n",
      "[flaml.automl.logger: 04-30 06:33:06] {2210} INFO - iteration 231, current learner lgbm\n",
      "[flaml.automl.logger: 04-30 06:33:06] {2383} INFO -  at 38.1s,\testimator lgbm's best error=0.1507,\tbest estimator xgboost's best error=0.1507\n",
      "[flaml.automl.logger: 04-30 06:33:06] {2210} INFO - iteration 232, current learner lgbm\n",
      "[flaml.automl.logger: 04-30 06:33:06] {2383} INFO -  at 38.1s,\testimator lgbm's best error=0.1507,\tbest estimator xgboost's best error=0.1507\n",
      "[flaml.automl.logger: 04-30 06:33:06] {2210} INFO - iteration 233, current learner catboost\n",
      "[flaml.automl.logger: 04-30 06:33:08] {2383} INFO -  at 40.1s,\testimator catboost's best error=0.1507,\tbest estimator xgboost's best error=0.1507\n",
      "[flaml.automl.logger: 04-30 06:33:08] {2210} INFO - iteration 234, current learner lgbm\n",
      "[flaml.automl.logger: 04-30 06:33:08] {2383} INFO -  at 40.1s,\testimator lgbm's best error=0.1507,\tbest estimator xgboost's best error=0.1507\n",
      "[flaml.automl.logger: 04-30 06:33:08] {2210} INFO - iteration 235, current learner lgbm\n",
      "[flaml.automl.logger: 04-30 06:33:08] {2383} INFO -  at 40.2s,\testimator lgbm's best error=0.1507,\tbest estimator xgboost's best error=0.1507\n",
      "[flaml.automl.logger: 04-30 06:33:08] {2210} INFO - iteration 236, current learner xgboost\n",
      "[flaml.automl.logger: 04-30 06:33:08] {2383} INFO -  at 40.2s,\testimator xgboost's best error=0.1507,\tbest estimator xgboost's best error=0.1507\n",
      "[flaml.automl.logger: 04-30 06:33:08] {2210} INFO - iteration 237, current learner catboost\n"
     ]
    },
    {
     "name": "stderr",
     "output_type": "stream",
     "text": [
      "c:\\Users\\raji9\\OneDrive\\Desktop\\New folder\\venv\\lib\\site-packages\\xgboost\\sklearn.py:1395: UserWarning: `use_label_encoder` is deprecated in 1.7.0.\n",
      "  warnings.warn(\"`use_label_encoder` is deprecated in 1.7.0.\")\n"
     ]
    },
    {
     "name": "stdout",
     "output_type": "stream",
     "text": [
      "[flaml.automl.logger: 04-30 06:33:09] {2383} INFO -  at 41.6s,\testimator catboost's best error=0.1507,\tbest estimator xgboost's best error=0.1507\n",
      "[flaml.automl.logger: 04-30 06:33:09] {2210} INFO - iteration 238, current learner lgbm\n",
      "[flaml.automl.logger: 04-30 06:33:09] {2383} INFO -  at 41.7s,\testimator lgbm's best error=0.1507,\tbest estimator xgboost's best error=0.1507\n",
      "[flaml.automl.logger: 04-30 06:33:09] {2210} INFO - iteration 239, current learner xgboost\n",
      "[flaml.automl.logger: 04-30 06:33:10] {2383} INFO -  at 41.8s,\testimator xgboost's best error=0.1507,\tbest estimator xgboost's best error=0.1507\n",
      "[flaml.automl.logger: 04-30 06:33:10] {2210} INFO - iteration 240, current learner lgbm\n"
     ]
    },
    {
     "name": "stderr",
     "output_type": "stream",
     "text": [
      "c:\\Users\\raji9\\OneDrive\\Desktop\\New folder\\venv\\lib\\site-packages\\xgboost\\sklearn.py:1395: UserWarning: `use_label_encoder` is deprecated in 1.7.0.\n",
      "  warnings.warn(\"`use_label_encoder` is deprecated in 1.7.0.\")\n"
     ]
    },
    {
     "name": "stdout",
     "output_type": "stream",
     "text": [
      "[flaml.automl.logger: 04-30 06:33:10] {2383} INFO -  at 42.0s,\testimator lgbm's best error=0.1507,\tbest estimator xgboost's best error=0.1507\n",
      "[flaml.automl.logger: 04-30 06:33:10] {2210} INFO - iteration 241, current learner xgboost\n",
      "[flaml.automl.logger: 04-30 06:33:10] {2383} INFO -  at 42.0s,\testimator xgboost's best error=0.1507,\tbest estimator xgboost's best error=0.1507\n",
      "[flaml.automl.logger: 04-30 06:33:10] {2210} INFO - iteration 242, current learner lgbm\n",
      "[flaml.automl.logger: 04-30 06:33:10] {2383} INFO -  at 42.1s,\testimator lgbm's best error=0.1507,\tbest estimator xgboost's best error=0.1507\n",
      "[flaml.automl.logger: 04-30 06:33:10] {2210} INFO - iteration 243, current learner xgboost\n",
      "[flaml.automl.logger: 04-30 06:33:10] {2383} INFO -  at 42.1s,\testimator xgboost's best error=0.1507,\tbest estimator xgboost's best error=0.1507\n",
      "[flaml.automl.logger: 04-30 06:33:10] {2210} INFO - iteration 244, current learner lgbm\n",
      "[flaml.automl.logger: 04-30 06:33:10] {2383} INFO -  at 42.2s,\testimator lgbm's best error=0.1507,\tbest estimator xgboost's best error=0.1507\n"
     ]
    },
    {
     "name": "stderr",
     "output_type": "stream",
     "text": [
      "c:\\Users\\raji9\\OneDrive\\Desktop\\New folder\\venv\\lib\\site-packages\\xgboost\\sklearn.py:1395: UserWarning: `use_label_encoder` is deprecated in 1.7.0.\n",
      "  warnings.warn(\"`use_label_encoder` is deprecated in 1.7.0.\")\n",
      "c:\\Users\\raji9\\OneDrive\\Desktop\\New folder\\venv\\lib\\site-packages\\xgboost\\sklearn.py:1395: UserWarning: `use_label_encoder` is deprecated in 1.7.0.\n",
      "  warnings.warn(\"`use_label_encoder` is deprecated in 1.7.0.\")\n"
     ]
    },
    {
     "name": "stdout",
     "output_type": "stream",
     "text": [
      "[flaml.automl.logger: 04-30 06:33:10] {2210} INFO - iteration 245, current learner lgbm\n",
      "[flaml.automl.logger: 04-30 06:33:10] {2383} INFO -  at 42.2s,\testimator lgbm's best error=0.1507,\tbest estimator xgboost's best error=0.1507\n",
      "[flaml.automl.logger: 04-30 06:33:10] {2210} INFO - iteration 246, current learner xgboost\n",
      "[flaml.automl.logger: 04-30 06:33:10] {2383} INFO -  at 42.3s,\testimator xgboost's best error=0.1507,\tbest estimator xgboost's best error=0.1507\n",
      "[flaml.automl.logger: 04-30 06:33:10] {2210} INFO - iteration 247, current learner lgbm\n",
      "[flaml.automl.logger: 04-30 06:33:10] {2383} INFO -  at 42.3s,\testimator lgbm's best error=0.1507,\tbest estimator xgboost's best error=0.1507\n",
      "[flaml.automl.logger: 04-30 06:33:10] {2210} INFO - iteration 248, current learner lgbm\n",
      "[flaml.automl.logger: 04-30 06:33:10] {2383} INFO -  at 42.4s,\testimator lgbm's best error=0.1507,\tbest estimator xgboost's best error=0.1507\n",
      "[flaml.automl.logger: 04-30 06:33:10] {2210} INFO - iteration 249, current learner xgboost\n"
     ]
    },
    {
     "name": "stderr",
     "output_type": "stream",
     "text": [
      "c:\\Users\\raji9\\OneDrive\\Desktop\\New folder\\venv\\lib\\site-packages\\xgboost\\sklearn.py:1395: UserWarning: `use_label_encoder` is deprecated in 1.7.0.\n",
      "  warnings.warn(\"`use_label_encoder` is deprecated in 1.7.0.\")\n",
      "c:\\Users\\raji9\\OneDrive\\Desktop\\New folder\\venv\\lib\\site-packages\\xgboost\\sklearn.py:1395: UserWarning: `use_label_encoder` is deprecated in 1.7.0.\n",
      "  warnings.warn(\"`use_label_encoder` is deprecated in 1.7.0.\")\n"
     ]
    },
    {
     "name": "stdout",
     "output_type": "stream",
     "text": [
      "[flaml.automl.logger: 04-30 06:33:10] {2383} INFO -  at 42.4s,\testimator xgboost's best error=0.1507,\tbest estimator xgboost's best error=0.1507\n",
      "[flaml.automl.logger: 04-30 06:33:10] {2210} INFO - iteration 250, current learner xgboost\n",
      "[flaml.automl.logger: 04-30 06:33:10] {2383} INFO -  at 42.5s,\testimator xgboost's best error=0.1507,\tbest estimator xgboost's best error=0.1507\n",
      "[flaml.automl.logger: 04-30 06:33:10] {2210} INFO - iteration 251, current learner lgbm\n",
      "[flaml.automl.logger: 04-30 06:33:10] {2383} INFO -  at 42.6s,\testimator lgbm's best error=0.1507,\tbest estimator xgboost's best error=0.1507\n",
      "[flaml.automl.logger: 04-30 06:33:10] {2210} INFO - iteration 252, current learner lgbm\n"
     ]
    },
    {
     "name": "stderr",
     "output_type": "stream",
     "text": [
      "c:\\Users\\raji9\\OneDrive\\Desktop\\New folder\\venv\\lib\\site-packages\\xgboost\\sklearn.py:1395: UserWarning: `use_label_encoder` is deprecated in 1.7.0.\n",
      "  warnings.warn(\"`use_label_encoder` is deprecated in 1.7.0.\")\n"
     ]
    },
    {
     "name": "stdout",
     "output_type": "stream",
     "text": [
      "[flaml.automl.logger: 04-30 06:33:10] {2383} INFO -  at 42.6s,\testimator lgbm's best error=0.1507,\tbest estimator xgboost's best error=0.1507\n",
      "[flaml.automl.logger: 04-30 06:33:10] {2210} INFO - iteration 253, current learner xgboost\n",
      "[flaml.automl.logger: 04-30 06:33:10] {2383} INFO -  at 42.7s,\testimator xgboost's best error=0.1507,\tbest estimator xgboost's best error=0.1507\n",
      "[flaml.automl.logger: 04-30 06:33:10] {2210} INFO - iteration 254, current learner lgbm\n",
      "[flaml.automl.logger: 04-30 06:33:11] {2383} INFO -  at 42.8s,\testimator lgbm's best error=0.1507,\tbest estimator xgboost's best error=0.1507\n",
      "[flaml.automl.logger: 04-30 06:33:11] {2210} INFO - iteration 255, current learner xgboost\n",
      "[flaml.automl.logger: 04-30 06:33:11] {2383} INFO -  at 42.8s,\testimator xgboost's best error=0.1507,\tbest estimator xgboost's best error=0.1507\n",
      "[flaml.automl.logger: 04-30 06:33:11] {2210} INFO - iteration 256, current learner lgbm\n",
      "[flaml.automl.logger: 04-30 06:33:11] {2383} INFO -  at 42.8s,\testimator lgbm's best error=0.1507,\tbest estimator xgboost's best error=0.1507\n"
     ]
    },
    {
     "name": "stderr",
     "output_type": "stream",
     "text": [
      "c:\\Users\\raji9\\OneDrive\\Desktop\\New folder\\venv\\lib\\site-packages\\xgboost\\sklearn.py:1395: UserWarning: `use_label_encoder` is deprecated in 1.7.0.\n",
      "  warnings.warn(\"`use_label_encoder` is deprecated in 1.7.0.\")\n",
      "c:\\Users\\raji9\\OneDrive\\Desktop\\New folder\\venv\\lib\\site-packages\\xgboost\\sklearn.py:1395: UserWarning: `use_label_encoder` is deprecated in 1.7.0.\n",
      "  warnings.warn(\"`use_label_encoder` is deprecated in 1.7.0.\")\n"
     ]
    },
    {
     "name": "stdout",
     "output_type": "stream",
     "text": [
      "[flaml.automl.logger: 04-30 06:33:11] {2210} INFO - iteration 257, current learner lgbm\n",
      "[flaml.automl.logger: 04-30 06:33:11] {2383} INFO -  at 42.9s,\testimator lgbm's best error=0.1507,\tbest estimator xgboost's best error=0.1507\n",
      "[flaml.automl.logger: 04-30 06:33:11] {2210} INFO - iteration 258, current learner lgbm\n",
      "[flaml.automl.logger: 04-30 06:33:11] {2383} INFO -  at 42.9s,\testimator lgbm's best error=0.1507,\tbest estimator xgboost's best error=0.1507\n",
      "[flaml.automl.logger: 04-30 06:33:11] {2210} INFO - iteration 259, current learner lgbm\n",
      "[flaml.automl.logger: 04-30 06:33:11] {2383} INFO -  at 43.0s,\testimator lgbm's best error=0.1507,\tbest estimator xgboost's best error=0.1507\n",
      "[flaml.automl.logger: 04-30 06:33:11] {2210} INFO - iteration 260, current learner lgbm\n",
      "[flaml.automl.logger: 04-30 06:33:11] {2383} INFO -  at 43.0s,\testimator lgbm's best error=0.1507,\tbest estimator xgboost's best error=0.1507\n",
      "[flaml.automl.logger: 04-30 06:33:11] {2210} INFO - iteration 261, current learner xgboost\n",
      "[flaml.automl.logger: 04-30 06:33:11] {2383} INFO -  at 43.0s,\testimator xgboost's best error=0.1507,\tbest estimator xgboost's best error=0.1507\n",
      "[flaml.automl.logger: 04-30 06:33:11] {2210} INFO - iteration 262, current learner lgbm\n",
      "[flaml.automl.logger: 04-30 06:33:11] {2383} INFO -  at 43.1s,\testimator lgbm's best error=0.1507,\tbest estimator xgboost's best error=0.1507\n",
      "[flaml.automl.logger: 04-30 06:33:11] {2210} INFO - iteration 263, current learner lgbm\n",
      "[flaml.automl.logger: 04-30 06:33:11] {2383} INFO -  at 43.1s,\testimator lgbm's best error=0.1507,\tbest estimator xgboost's best error=0.1507\n",
      "[flaml.automl.logger: 04-30 06:33:11] {2210} INFO - iteration 264, current learner lgbm\n",
      "[flaml.automl.logger: 04-30 06:33:11] {2383} INFO -  at 43.2s,\testimator lgbm's best error=0.1507,\tbest estimator xgboost's best error=0.1507\n",
      "[flaml.automl.logger: 04-30 06:33:11] {2210} INFO - iteration 265, current learner lgbm\n",
      "[flaml.automl.logger: 04-30 06:33:11] {2383} INFO -  at 43.2s,\testimator lgbm's best error=0.1507,\tbest estimator xgboost's best error=0.1507\n"
     ]
    },
    {
     "name": "stderr",
     "output_type": "stream",
     "text": [
      "c:\\Users\\raji9\\OneDrive\\Desktop\\New folder\\venv\\lib\\site-packages\\xgboost\\sklearn.py:1395: UserWarning: `use_label_encoder` is deprecated in 1.7.0.\n",
      "  warnings.warn(\"`use_label_encoder` is deprecated in 1.7.0.\")\n"
     ]
    },
    {
     "name": "stdout",
     "output_type": "stream",
     "text": [
      "[flaml.automl.logger: 04-30 06:33:11] {2210} INFO - iteration 266, current learner lgbm\n",
      "[flaml.automl.logger: 04-30 06:33:11] {2383} INFO -  at 43.2s,\testimator lgbm's best error=0.1507,\tbest estimator xgboost's best error=0.1507\n",
      "[flaml.automl.logger: 04-30 06:33:11] {2210} INFO - iteration 267, current learner lgbm\n",
      "[flaml.automl.logger: 04-30 06:33:11] {2383} INFO -  at 43.3s,\testimator lgbm's best error=0.1507,\tbest estimator xgboost's best error=0.1507\n",
      "[flaml.automl.logger: 04-30 06:33:11] {2210} INFO - iteration 268, current learner xgboost\n"
     ]
    },
    {
     "name": "stderr",
     "output_type": "stream",
     "text": [
      "c:\\Users\\raji9\\OneDrive\\Desktop\\New folder\\venv\\lib\\site-packages\\xgboost\\sklearn.py:1395: UserWarning: `use_label_encoder` is deprecated in 1.7.0.\n",
      "  warnings.warn(\"`use_label_encoder` is deprecated in 1.7.0.\")\n"
     ]
    },
    {
     "name": "stdout",
     "output_type": "stream",
     "text": [
      "[flaml.automl.logger: 04-30 06:33:11] {2383} INFO -  at 43.5s,\testimator xgboost's best error=0.1507,\tbest estimator xgboost's best error=0.1507\n",
      "[flaml.automl.logger: 04-30 06:33:11] {2210} INFO - iteration 269, current learner lgbm\n",
      "[flaml.automl.logger: 04-30 06:33:11] {2383} INFO -  at 43.5s,\testimator lgbm's best error=0.1507,\tbest estimator xgboost's best error=0.1507\n",
      "[flaml.automl.logger: 04-30 06:33:11] {2210} INFO - iteration 270, current learner xgboost\n",
      "[flaml.automl.logger: 04-30 06:33:11] {2383} INFO -  at 43.6s,\testimator xgboost's best error=0.1507,\tbest estimator xgboost's best error=0.1507\n",
      "[flaml.automl.logger: 04-30 06:33:11] {2210} INFO - iteration 271, current learner xgboost\n",
      "[flaml.automl.logger: 04-30 06:33:11] {2383} INFO -  at 43.6s,\testimator xgboost's best error=0.1507,\tbest estimator xgboost's best error=0.1507\n",
      "[flaml.automl.logger: 04-30 06:33:11] {2210} INFO - iteration 272, current learner xgboost\n",
      "[flaml.automl.logger: 04-30 06:33:11] {2383} INFO -  at 43.7s,\testimator xgboost's best error=0.1507,\tbest estimator xgboost's best error=0.1507\n",
      "[flaml.automl.logger: 04-30 06:33:11] {2210} INFO - iteration 273, current learner xgboost\n"
     ]
    },
    {
     "name": "stderr",
     "output_type": "stream",
     "text": [
      "c:\\Users\\raji9\\OneDrive\\Desktop\\New folder\\venv\\lib\\site-packages\\xgboost\\sklearn.py:1395: UserWarning: `use_label_encoder` is deprecated in 1.7.0.\n",
      "  warnings.warn(\"`use_label_encoder` is deprecated in 1.7.0.\")\n",
      "c:\\Users\\raji9\\OneDrive\\Desktop\\New folder\\venv\\lib\\site-packages\\xgboost\\sklearn.py:1395: UserWarning: `use_label_encoder` is deprecated in 1.7.0.\n",
      "  warnings.warn(\"`use_label_encoder` is deprecated in 1.7.0.\")\n",
      "c:\\Users\\raji9\\OneDrive\\Desktop\\New folder\\venv\\lib\\site-packages\\xgboost\\sklearn.py:1395: UserWarning: `use_label_encoder` is deprecated in 1.7.0.\n",
      "  warnings.warn(\"`use_label_encoder` is deprecated in 1.7.0.\")\n",
      "c:\\Users\\raji9\\OneDrive\\Desktop\\New folder\\venv\\lib\\site-packages\\xgboost\\sklearn.py:1395: UserWarning: `use_label_encoder` is deprecated in 1.7.0.\n",
      "  warnings.warn(\"`use_label_encoder` is deprecated in 1.7.0.\")\n"
     ]
    },
    {
     "name": "stdout",
     "output_type": "stream",
     "text": [
      "[flaml.automl.logger: 04-30 06:33:12] {2383} INFO -  at 43.8s,\testimator xgboost's best error=0.1507,\tbest estimator xgboost's best error=0.1507\n",
      "[flaml.automl.logger: 04-30 06:33:12] {2210} INFO - iteration 274, current learner xgboost\n",
      "[flaml.automl.logger: 04-30 06:33:12] {2383} INFO -  at 43.8s,\testimator xgboost's best error=0.1507,\tbest estimator xgboost's best error=0.1507\n",
      "[flaml.automl.logger: 04-30 06:33:12] {2210} INFO - iteration 275, current learner lgbm\n",
      "[flaml.automl.logger: 04-30 06:33:12] {2383} INFO -  at 43.9s,\testimator lgbm's best error=0.1507,\tbest estimator xgboost's best error=0.1507\n",
      "[flaml.automl.logger: 04-30 06:33:12] {2210} INFO - iteration 276, current learner xgboost\n",
      "[flaml.automl.logger: 04-30 06:33:12] {2383} INFO -  at 43.9s,\testimator xgboost's best error=0.1507,\tbest estimator xgboost's best error=0.1507\n",
      "[flaml.automl.logger: 04-30 06:33:12] {2210} INFO - iteration 277, current learner lgbm\n"
     ]
    },
    {
     "name": "stderr",
     "output_type": "stream",
     "text": [
      "c:\\Users\\raji9\\OneDrive\\Desktop\\New folder\\venv\\lib\\site-packages\\xgboost\\sklearn.py:1395: UserWarning: `use_label_encoder` is deprecated in 1.7.0.\n",
      "  warnings.warn(\"`use_label_encoder` is deprecated in 1.7.0.\")\n",
      "c:\\Users\\raji9\\OneDrive\\Desktop\\New folder\\venv\\lib\\site-packages\\xgboost\\sklearn.py:1395: UserWarning: `use_label_encoder` is deprecated in 1.7.0.\n",
      "  warnings.warn(\"`use_label_encoder` is deprecated in 1.7.0.\")\n"
     ]
    },
    {
     "name": "stdout",
     "output_type": "stream",
     "text": [
      "[flaml.automl.logger: 04-30 06:33:12] {2383} INFO -  at 44.0s,\testimator lgbm's best error=0.1507,\tbest estimator xgboost's best error=0.1507\n",
      "[flaml.automl.logger: 04-30 06:33:12] {2210} INFO - iteration 278, current learner lgbm\n",
      "[flaml.automl.logger: 04-30 06:33:12] {2383} INFO -  at 44.0s,\testimator lgbm's best error=0.1507,\tbest estimator xgboost's best error=0.1507\n",
      "[flaml.automl.logger: 04-30 06:33:12] {2210} INFO - iteration 279, current learner xgboost\n",
      "[flaml.automl.logger: 04-30 06:33:12] {2383} INFO -  at 44.1s,\testimator xgboost's best error=0.1507,\tbest estimator xgboost's best error=0.1507\n",
      "[flaml.automl.logger: 04-30 06:33:12] {2210} INFO - iteration 280, current learner xgboost\n",
      "[flaml.automl.logger: 04-30 06:33:12] {2383} INFO -  at 44.2s,\testimator xgboost's best error=0.1507,\tbest estimator xgboost's best error=0.1507\n",
      "[flaml.automl.logger: 04-30 06:33:12] {2210} INFO - iteration 281, current learner xgboost\n",
      "[flaml.automl.logger: 04-30 06:33:12] {2383} INFO -  at 44.2s,\testimator xgboost's best error=0.1507,\tbest estimator xgboost's best error=0.1507\n",
      "[flaml.automl.logger: 04-30 06:33:12] {2210} INFO - iteration 282, current learner lgbm\n",
      "[flaml.automl.logger: 04-30 06:33:12] {2383} INFO -  at 44.2s,\testimator lgbm's best error=0.1507,\tbest estimator xgboost's best error=0.1507\n"
     ]
    },
    {
     "name": "stderr",
     "output_type": "stream",
     "text": [
      "c:\\Users\\raji9\\OneDrive\\Desktop\\New folder\\venv\\lib\\site-packages\\xgboost\\sklearn.py:1395: UserWarning: `use_label_encoder` is deprecated in 1.7.0.\n",
      "  warnings.warn(\"`use_label_encoder` is deprecated in 1.7.0.\")\n",
      "c:\\Users\\raji9\\OneDrive\\Desktop\\New folder\\venv\\lib\\site-packages\\xgboost\\sklearn.py:1395: UserWarning: `use_label_encoder` is deprecated in 1.7.0.\n",
      "  warnings.warn(\"`use_label_encoder` is deprecated in 1.7.0.\")\n",
      "c:\\Users\\raji9\\OneDrive\\Desktop\\New folder\\venv\\lib\\site-packages\\xgboost\\sklearn.py:1395: UserWarning: `use_label_encoder` is deprecated in 1.7.0.\n",
      "  warnings.warn(\"`use_label_encoder` is deprecated in 1.7.0.\")\n"
     ]
    },
    {
     "name": "stdout",
     "output_type": "stream",
     "text": [
      "[flaml.automl.logger: 04-30 06:33:12] {2210} INFO - iteration 283, current learner lgbm\n",
      "[flaml.automl.logger: 04-30 06:33:12] {2383} INFO -  at 44.3s,\testimator lgbm's best error=0.1507,\tbest estimator xgboost's best error=0.1507\n",
      "[flaml.automl.logger: 04-30 06:33:12] {2210} INFO - iteration 284, current learner lgbm\n",
      "[flaml.automl.logger: 04-30 06:33:12] {2383} INFO -  at 44.3s,\testimator lgbm's best error=0.1507,\tbest estimator xgboost's best error=0.1507\n",
      "[flaml.automl.logger: 04-30 06:33:12] {2210} INFO - iteration 285, current learner lgbm\n",
      "[flaml.automl.logger: 04-30 06:33:12] {2383} INFO -  at 44.4s,\testimator lgbm's best error=0.1507,\tbest estimator xgboost's best error=0.1507\n",
      "[flaml.automl.logger: 04-30 06:33:12] {2210} INFO - iteration 286, current learner xgboost\n",
      "[flaml.automl.logger: 04-30 06:33:12] {2383} INFO -  at 44.4s,\testimator xgboost's best error=0.1507,\tbest estimator xgboost's best error=0.1507\n",
      "[flaml.automl.logger: 04-30 06:33:12] {2210} INFO - iteration 287, current learner xgboost\n",
      "[flaml.automl.logger: 04-30 06:33:12] {2383} INFO -  at 44.5s,\testimator xgboost's best error=0.1507,\tbest estimator xgboost's best error=0.1507\n",
      "[flaml.automl.logger: 04-30 06:33:12] {2210} INFO - iteration 288, current learner lgbm\n",
      "[flaml.automl.logger: 04-30 06:33:12] {2383} INFO -  at 44.5s,\testimator lgbm's best error=0.1507,\tbest estimator xgboost's best error=0.1507\n",
      "[flaml.automl.logger: 04-30 06:33:12] {2210} INFO - iteration 289, current learner catboost\n"
     ]
    },
    {
     "name": "stderr",
     "output_type": "stream",
     "text": [
      "c:\\Users\\raji9\\OneDrive\\Desktop\\New folder\\venv\\lib\\site-packages\\xgboost\\sklearn.py:1395: UserWarning: `use_label_encoder` is deprecated in 1.7.0.\n",
      "  warnings.warn(\"`use_label_encoder` is deprecated in 1.7.0.\")\n",
      "c:\\Users\\raji9\\OneDrive\\Desktop\\New folder\\venv\\lib\\site-packages\\xgboost\\sklearn.py:1395: UserWarning: `use_label_encoder` is deprecated in 1.7.0.\n",
      "  warnings.warn(\"`use_label_encoder` is deprecated in 1.7.0.\")\n"
     ]
    },
    {
     "name": "stdout",
     "output_type": "stream",
     "text": [
      "[flaml.automl.logger: 04-30 06:33:15] {2383} INFO -  at 46.9s,\testimator catboost's best error=0.1507,\tbest estimator xgboost's best error=0.1507\n",
      "[flaml.automl.logger: 04-30 06:33:15] {2210} INFO - iteration 290, current learner lgbm\n",
      "[flaml.automl.logger: 04-30 06:33:15] {2383} INFO -  at 46.9s,\testimator lgbm's best error=0.1507,\tbest estimator xgboost's best error=0.1507\n",
      "[flaml.automl.logger: 04-30 06:33:15] {2210} INFO - iteration 291, current learner lgbm\n",
      "[flaml.automl.logger: 04-30 06:33:15] {2383} INFO -  at 46.9s,\testimator lgbm's best error=0.1507,\tbest estimator xgboost's best error=0.1507\n",
      "[flaml.automl.logger: 04-30 06:33:15] {2210} INFO - iteration 292, current learner lgbm\n",
      "[flaml.automl.logger: 04-30 06:33:15] {2383} INFO -  at 47.0s,\testimator lgbm's best error=0.1507,\tbest estimator xgboost's best error=0.1507\n",
      "[flaml.automl.logger: 04-30 06:33:15] {2210} INFO - iteration 293, current learner catboost\n",
      "[flaml.automl.logger: 04-30 06:33:16] {2383} INFO -  at 48.7s,\testimator catboost's best error=0.1507,\tbest estimator xgboost's best error=0.1507\n",
      "[flaml.automl.logger: 04-30 06:33:16] {2210} INFO - iteration 294, current learner lgbm\n",
      "[flaml.automl.logger: 04-30 06:33:16] {2383} INFO -  at 48.7s,\testimator lgbm's best error=0.1507,\tbest estimator xgboost's best error=0.1507\n",
      "[flaml.automl.logger: 04-30 06:33:16] {2210} INFO - iteration 295, current learner lgbm\n",
      "[flaml.automl.logger: 04-30 06:33:17] {2383} INFO -  at 48.8s,\testimator lgbm's best error=0.1507,\tbest estimator xgboost's best error=0.1507\n",
      "[flaml.automl.logger: 04-30 06:33:17] {2210} INFO - iteration 296, current learner xgboost\n",
      "[flaml.automl.logger: 04-30 06:33:17] {2383} INFO -  at 48.8s,\testimator xgboost's best error=0.1507,\tbest estimator xgboost's best error=0.1507\n",
      "[flaml.automl.logger: 04-30 06:33:17] {2210} INFO - iteration 297, current learner xgboost\n",
      "[flaml.automl.logger: 04-30 06:33:17] {2383} INFO -  at 48.8s,\testimator xgboost's best error=0.1507,\tbest estimator xgboost's best error=0.1507\n",
      "[flaml.automl.logger: 04-30 06:33:17] {2210} INFO - iteration 298, current learner xgboost\n",
      "[flaml.automl.logger: 04-30 06:33:17] {2383} INFO -  at 48.9s,\testimator xgboost's best error=0.1507,\tbest estimator xgboost's best error=0.1507\n",
      "[flaml.automl.logger: 04-30 06:33:17] {2210} INFO - iteration 299, current learner xgboost\n",
      "[flaml.automl.logger: 04-30 06:33:17] {2383} INFO -  at 48.9s,\testimator xgboost's best error=0.1507,\tbest estimator xgboost's best error=0.1507\n",
      "[flaml.automl.logger: 04-30 06:33:17] {2210} INFO - iteration 300, current learner xgboost\n"
     ]
    },
    {
     "name": "stderr",
     "output_type": "stream",
     "text": [
      "c:\\Users\\raji9\\OneDrive\\Desktop\\New folder\\venv\\lib\\site-packages\\xgboost\\sklearn.py:1395: UserWarning: `use_label_encoder` is deprecated in 1.7.0.\n",
      "  warnings.warn(\"`use_label_encoder` is deprecated in 1.7.0.\")\n",
      "c:\\Users\\raji9\\OneDrive\\Desktop\\New folder\\venv\\lib\\site-packages\\xgboost\\sklearn.py:1395: UserWarning: `use_label_encoder` is deprecated in 1.7.0.\n",
      "  warnings.warn(\"`use_label_encoder` is deprecated in 1.7.0.\")\n",
      "c:\\Users\\raji9\\OneDrive\\Desktop\\New folder\\venv\\lib\\site-packages\\xgboost\\sklearn.py:1395: UserWarning: `use_label_encoder` is deprecated in 1.7.0.\n",
      "  warnings.warn(\"`use_label_encoder` is deprecated in 1.7.0.\")\n",
      "c:\\Users\\raji9\\OneDrive\\Desktop\\New folder\\venv\\lib\\site-packages\\xgboost\\sklearn.py:1395: UserWarning: `use_label_encoder` is deprecated in 1.7.0.\n",
      "  warnings.warn(\"`use_label_encoder` is deprecated in 1.7.0.\")\n",
      "c:\\Users\\raji9\\OneDrive\\Desktop\\New folder\\venv\\lib\\site-packages\\xgboost\\sklearn.py:1395: UserWarning: `use_label_encoder` is deprecated in 1.7.0.\n",
      "  warnings.warn(\"`use_label_encoder` is deprecated in 1.7.0.\")\n"
     ]
    },
    {
     "name": "stdout",
     "output_type": "stream",
     "text": [
      "[flaml.automl.logger: 04-30 06:33:17] {2383} INFO -  at 49.0s,\testimator xgboost's best error=0.1507,\tbest estimator xgboost's best error=0.1507\n",
      "[flaml.automl.logger: 04-30 06:33:17] {2210} INFO - iteration 301, current learner lgbm\n",
      "[flaml.automl.logger: 04-30 06:33:17] {2383} INFO -  at 49.0s,\testimator lgbm's best error=0.1507,\tbest estimator xgboost's best error=0.1507\n",
      "[flaml.automl.logger: 04-30 06:33:17] {2210} INFO - iteration 302, current learner xgboost\n",
      "[flaml.automl.logger: 04-30 06:33:17] {2383} INFO -  at 49.0s,\testimator xgboost's best error=0.1507,\tbest estimator xgboost's best error=0.1507\n",
      "[flaml.automl.logger: 04-30 06:33:17] {2210} INFO - iteration 303, current learner lgbm\n",
      "[flaml.automl.logger: 04-30 06:33:17] {2383} INFO -  at 49.1s,\testimator lgbm's best error=0.1507,\tbest estimator xgboost's best error=0.1507\n",
      "[flaml.automl.logger: 04-30 06:33:17] {2210} INFO - iteration 304, current learner lgbm\n",
      "[flaml.automl.logger: 04-30 06:33:17] {2383} INFO -  at 49.1s,\testimator lgbm's best error=0.1507,\tbest estimator xgboost's best error=0.1507\n",
      "[flaml.automl.logger: 04-30 06:33:17] {2210} INFO - iteration 305, current learner lgbm\n",
      "[flaml.automl.logger: 04-30 06:33:17] {2383} INFO -  at 49.2s,\testimator lgbm's best error=0.1507,\tbest estimator xgboost's best error=0.1507\n"
     ]
    },
    {
     "name": "stderr",
     "output_type": "stream",
     "text": [
      "c:\\Users\\raji9\\OneDrive\\Desktop\\New folder\\venv\\lib\\site-packages\\xgboost\\sklearn.py:1395: UserWarning: `use_label_encoder` is deprecated in 1.7.0.\n",
      "  warnings.warn(\"`use_label_encoder` is deprecated in 1.7.0.\")\n"
     ]
    },
    {
     "name": "stdout",
     "output_type": "stream",
     "text": [
      "[flaml.automl.logger: 04-30 06:33:17] {2210} INFO - iteration 306, current learner lgbm\n",
      "[flaml.automl.logger: 04-30 06:33:17] {2383} INFO -  at 49.2s,\testimator lgbm's best error=0.1507,\tbest estimator xgboost's best error=0.1507\n",
      "[flaml.automl.logger: 04-30 06:33:17] {2210} INFO - iteration 307, current learner xgboost\n",
      "[flaml.automl.logger: 04-30 06:33:17] {2383} INFO -  at 49.3s,\testimator xgboost's best error=0.1507,\tbest estimator xgboost's best error=0.1507\n",
      "[flaml.automl.logger: 04-30 06:33:17] {2210} INFO - iteration 308, current learner catboost\n"
     ]
    },
    {
     "name": "stderr",
     "output_type": "stream",
     "text": [
      "c:\\Users\\raji9\\OneDrive\\Desktop\\New folder\\venv\\lib\\site-packages\\xgboost\\sklearn.py:1395: UserWarning: `use_label_encoder` is deprecated in 1.7.0.\n",
      "  warnings.warn(\"`use_label_encoder` is deprecated in 1.7.0.\")\n"
     ]
    },
    {
     "name": "stdout",
     "output_type": "stream",
     "text": [
      "[flaml.automl.logger: 04-30 06:33:19] {2383} INFO -  at 51.5s,\testimator catboost's best error=0.1507,\tbest estimator xgboost's best error=0.1507\n",
      "[flaml.automl.logger: 04-30 06:33:19] {2210} INFO - iteration 309, current learner xgboost\n",
      "[flaml.automl.logger: 04-30 06:33:19] {2383} INFO -  at 51.6s,\testimator xgboost's best error=0.1507,\tbest estimator xgboost's best error=0.1507\n",
      "[flaml.automl.logger: 04-30 06:33:19] {2210} INFO - iteration 310, current learner xgboost\n",
      "[flaml.automl.logger: 04-30 06:33:19] {2383} INFO -  at 51.6s,\testimator xgboost's best error=0.1507,\tbest estimator xgboost's best error=0.1507\n",
      "[flaml.automl.logger: 04-30 06:33:19] {2210} INFO - iteration 311, current learner lgbm\n",
      "[flaml.automl.logger: 04-30 06:33:19] {2383} INFO -  at 51.7s,\testimator lgbm's best error=0.1507,\tbest estimator xgboost's best error=0.1507\n",
      "[flaml.automl.logger: 04-30 06:33:19] {2210} INFO - iteration 312, current learner xgboost\n",
      "[flaml.automl.logger: 04-30 06:33:19] {2383} INFO -  at 51.7s,\testimator xgboost's best error=0.1507,\tbest estimator xgboost's best error=0.1507\n",
      "[flaml.automl.logger: 04-30 06:33:19] {2210} INFO - iteration 313, current learner lgbm\n"
     ]
    },
    {
     "name": "stderr",
     "output_type": "stream",
     "text": [
      "c:\\Users\\raji9\\OneDrive\\Desktop\\New folder\\venv\\lib\\site-packages\\xgboost\\sklearn.py:1395: UserWarning: `use_label_encoder` is deprecated in 1.7.0.\n",
      "  warnings.warn(\"`use_label_encoder` is deprecated in 1.7.0.\")\n",
      "c:\\Users\\raji9\\OneDrive\\Desktop\\New folder\\venv\\lib\\site-packages\\xgboost\\sklearn.py:1395: UserWarning: `use_label_encoder` is deprecated in 1.7.0.\n",
      "  warnings.warn(\"`use_label_encoder` is deprecated in 1.7.0.\")\n",
      "c:\\Users\\raji9\\OneDrive\\Desktop\\New folder\\venv\\lib\\site-packages\\xgboost\\sklearn.py:1395: UserWarning: `use_label_encoder` is deprecated in 1.7.0.\n",
      "  warnings.warn(\"`use_label_encoder` is deprecated in 1.7.0.\")\n"
     ]
    },
    {
     "name": "stdout",
     "output_type": "stream",
     "text": [
      "[flaml.automl.logger: 04-30 06:33:20] {2383} INFO -  at 51.7s,\testimator lgbm's best error=0.1507,\tbest estimator xgboost's best error=0.1507\n",
      "[flaml.automl.logger: 04-30 06:33:20] {2210} INFO - iteration 314, current learner lgbm\n",
      "[flaml.automl.logger: 04-30 06:33:20] {2383} INFO -  at 51.8s,\testimator lgbm's best error=0.1507,\tbest estimator xgboost's best error=0.1507\n",
      "[flaml.automl.logger: 04-30 06:33:20] {2210} INFO - iteration 315, current learner xgboost\n",
      "[flaml.automl.logger: 04-30 06:33:20] {2383} INFO -  at 51.8s,\testimator xgboost's best error=0.1507,\tbest estimator xgboost's best error=0.1507\n",
      "[flaml.automl.logger: 04-30 06:33:20] {2210} INFO - iteration 316, current learner xgboost\n",
      "[flaml.automl.logger: 04-30 06:33:20] {2383} INFO -  at 51.9s,\testimator xgboost's best error=0.1507,\tbest estimator xgboost's best error=0.1507\n",
      "[flaml.automl.logger: 04-30 06:33:20] {2210} INFO - iteration 317, current learner xgboost\n",
      "[flaml.automl.logger: 04-30 06:33:20] {2383} INFO -  at 51.9s,\testimator xgboost's best error=0.1507,\tbest estimator xgboost's best error=0.1507\n",
      "[flaml.automl.logger: 04-30 06:33:20] {2210} INFO - iteration 318, current learner catboost\n"
     ]
    },
    {
     "name": "stderr",
     "output_type": "stream",
     "text": [
      "c:\\Users\\raji9\\OneDrive\\Desktop\\New folder\\venv\\lib\\site-packages\\xgboost\\sklearn.py:1395: UserWarning: `use_label_encoder` is deprecated in 1.7.0.\n",
      "  warnings.warn(\"`use_label_encoder` is deprecated in 1.7.0.\")\n",
      "c:\\Users\\raji9\\OneDrive\\Desktop\\New folder\\venv\\lib\\site-packages\\xgboost\\sklearn.py:1395: UserWarning: `use_label_encoder` is deprecated in 1.7.0.\n",
      "  warnings.warn(\"`use_label_encoder` is deprecated in 1.7.0.\")\n",
      "c:\\Users\\raji9\\OneDrive\\Desktop\\New folder\\venv\\lib\\site-packages\\xgboost\\sklearn.py:1395: UserWarning: `use_label_encoder` is deprecated in 1.7.0.\n",
      "  warnings.warn(\"`use_label_encoder` is deprecated in 1.7.0.\")\n"
     ]
    },
    {
     "name": "stdout",
     "output_type": "stream",
     "text": [
      "[flaml.automl.logger: 04-30 06:33:21] {2383} INFO -  at 53.7s,\testimator catboost's best error=0.1507,\tbest estimator xgboost's best error=0.1507\n",
      "[flaml.automl.logger: 04-30 06:33:21] {2210} INFO - iteration 319, current learner lgbm\n",
      "[flaml.automl.logger: 04-30 06:33:21] {2383} INFO -  at 53.7s,\testimator lgbm's best error=0.1507,\tbest estimator xgboost's best error=0.1507\n",
      "[flaml.automl.logger: 04-30 06:33:21] {2210} INFO - iteration 320, current learner xgboost\n",
      "[flaml.automl.logger: 04-30 06:33:22] {2383} INFO -  at 53.8s,\testimator xgboost's best error=0.1507,\tbest estimator xgboost's best error=0.1507\n",
      "[flaml.automl.logger: 04-30 06:33:22] {2210} INFO - iteration 321, current learner xgboost\n",
      "[flaml.automl.logger: 04-30 06:33:22] {2383} INFO -  at 53.8s,\testimator xgboost's best error=0.1507,\tbest estimator xgboost's best error=0.1507\n",
      "[flaml.automl.logger: 04-30 06:33:22] {2210} INFO - iteration 322, current learner lgbm\n",
      "[flaml.automl.logger: 04-30 06:33:22] {2383} INFO -  at 53.9s,\testimator lgbm's best error=0.1507,\tbest estimator xgboost's best error=0.1507\n",
      "[flaml.automl.logger: 04-30 06:33:22] {2210} INFO - iteration 323, current learner xgboost\n",
      "[flaml.automl.logger: 04-30 06:33:22] {2383} INFO -  at 53.9s,\testimator xgboost's best error=0.1507,\tbest estimator xgboost's best error=0.1507\n"
     ]
    },
    {
     "name": "stderr",
     "output_type": "stream",
     "text": [
      "c:\\Users\\raji9\\OneDrive\\Desktop\\New folder\\venv\\lib\\site-packages\\xgboost\\sklearn.py:1395: UserWarning: `use_label_encoder` is deprecated in 1.7.0.\n",
      "  warnings.warn(\"`use_label_encoder` is deprecated in 1.7.0.\")\n",
      "c:\\Users\\raji9\\OneDrive\\Desktop\\New folder\\venv\\lib\\site-packages\\xgboost\\sklearn.py:1395: UserWarning: `use_label_encoder` is deprecated in 1.7.0.\n",
      "  warnings.warn(\"`use_label_encoder` is deprecated in 1.7.0.\")\n",
      "c:\\Users\\raji9\\OneDrive\\Desktop\\New folder\\venv\\lib\\site-packages\\xgboost\\sklearn.py:1395: UserWarning: `use_label_encoder` is deprecated in 1.7.0.\n",
      "  warnings.warn(\"`use_label_encoder` is deprecated in 1.7.0.\")\n"
     ]
    },
    {
     "name": "stdout",
     "output_type": "stream",
     "text": [
      "[flaml.automl.logger: 04-30 06:33:22] {2210} INFO - iteration 324, current learner lgbm\n",
      "[flaml.automl.logger: 04-30 06:33:22] {2383} INFO -  at 53.9s,\testimator lgbm's best error=0.1507,\tbest estimator xgboost's best error=0.1507\n",
      "[flaml.automl.logger: 04-30 06:33:22] {2210} INFO - iteration 325, current learner xgboost\n",
      "[flaml.automl.logger: 04-30 06:33:22] {2383} INFO -  at 54.0s,\testimator xgboost's best error=0.1507,\tbest estimator xgboost's best error=0.1507\n",
      "[flaml.automl.logger: 04-30 06:33:22] {2210} INFO - iteration 326, current learner xgboost\n",
      "[flaml.automl.logger: 04-30 06:33:22] {2383} INFO -  at 54.0s,\testimator xgboost's best error=0.1507,\tbest estimator xgboost's best error=0.1507\n",
      "[flaml.automl.logger: 04-30 06:33:22] {2210} INFO - iteration 327, current learner catboost\n"
     ]
    },
    {
     "name": "stderr",
     "output_type": "stream",
     "text": [
      "c:\\Users\\raji9\\OneDrive\\Desktop\\New folder\\venv\\lib\\site-packages\\xgboost\\sklearn.py:1395: UserWarning: `use_label_encoder` is deprecated in 1.7.0.\n",
      "  warnings.warn(\"`use_label_encoder` is deprecated in 1.7.0.\")\n",
      "c:\\Users\\raji9\\OneDrive\\Desktop\\New folder\\venv\\lib\\site-packages\\xgboost\\sklearn.py:1395: UserWarning: `use_label_encoder` is deprecated in 1.7.0.\n",
      "  warnings.warn(\"`use_label_encoder` is deprecated in 1.7.0.\")\n"
     ]
    },
    {
     "name": "stdout",
     "output_type": "stream",
     "text": [
      "[flaml.automl.logger: 04-30 06:33:24] {2383} INFO -  at 55.8s,\testimator catboost's best error=0.1507,\tbest estimator xgboost's best error=0.1507\n",
      "[flaml.automl.logger: 04-30 06:33:24] {2210} INFO - iteration 328, current learner catboost\n",
      "[flaml.automl.logger: 04-30 06:33:25] {2383} INFO -  at 57.7s,\testimator catboost's best error=0.1507,\tbest estimator xgboost's best error=0.1507\n",
      "[flaml.automl.logger: 04-30 06:33:25] {2210} INFO - iteration 329, current learner xgboost\n",
      "[flaml.automl.logger: 04-30 06:33:26] {2383} INFO -  at 57.8s,\testimator xgboost's best error=0.1507,\tbest estimator xgboost's best error=0.1507\n",
      "[flaml.automl.logger: 04-30 06:33:26] {2210} INFO - iteration 330, current learner lgbm\n",
      "[flaml.automl.logger: 04-30 06:33:26] {2383} INFO -  at 57.8s,\testimator lgbm's best error=0.1507,\tbest estimator xgboost's best error=0.1507\n",
      "[flaml.automl.logger: 04-30 06:33:26] {2210} INFO - iteration 331, current learner lgbm\n",
      "[flaml.automl.logger: 04-30 06:33:26] {2383} INFO -  at 57.8s,\testimator lgbm's best error=0.1507,\tbest estimator xgboost's best error=0.1507\n",
      "[flaml.automl.logger: 04-30 06:33:26] {2210} INFO - iteration 332, current learner lgbm\n",
      "[flaml.automl.logger: 04-30 06:33:26] {2383} INFO -  at 57.9s,\testimator lgbm's best error=0.1507,\tbest estimator xgboost's best error=0.1507\n",
      "[flaml.automl.logger: 04-30 06:33:26] {2210} INFO - iteration 333, current learner xgboost\n",
      "[flaml.automl.logger: 04-30 06:33:26] {2383} INFO -  at 57.9s,\testimator xgboost's best error=0.1507,\tbest estimator xgboost's best error=0.1507\n"
     ]
    },
    {
     "name": "stderr",
     "output_type": "stream",
     "text": [
      "c:\\Users\\raji9\\OneDrive\\Desktop\\New folder\\venv\\lib\\site-packages\\xgboost\\sklearn.py:1395: UserWarning: `use_label_encoder` is deprecated in 1.7.0.\n",
      "  warnings.warn(\"`use_label_encoder` is deprecated in 1.7.0.\")\n",
      "c:\\Users\\raji9\\OneDrive\\Desktop\\New folder\\venv\\lib\\site-packages\\xgboost\\sklearn.py:1395: UserWarning: `use_label_encoder` is deprecated in 1.7.0.\n",
      "  warnings.warn(\"`use_label_encoder` is deprecated in 1.7.0.\")\n"
     ]
    },
    {
     "name": "stdout",
     "output_type": "stream",
     "text": [
      "[flaml.automl.logger: 04-30 06:33:26] {2210} INFO - iteration 334, current learner lgbm\n",
      "[flaml.automl.logger: 04-30 06:33:26] {2383} INFO -  at 57.9s,\testimator lgbm's best error=0.1507,\tbest estimator xgboost's best error=0.1507\n",
      "[flaml.automl.logger: 04-30 06:33:26] {2210} INFO - iteration 335, current learner xgboost\n",
      "[flaml.automl.logger: 04-30 06:33:26] {2383} INFO -  at 58.0s,\testimator xgboost's best error=0.1507,\tbest estimator xgboost's best error=0.1507\n",
      "[flaml.automl.logger: 04-30 06:33:26] {2210} INFO - iteration 336, current learner catboost\n"
     ]
    },
    {
     "name": "stderr",
     "output_type": "stream",
     "text": [
      "c:\\Users\\raji9\\OneDrive\\Desktop\\New folder\\venv\\lib\\site-packages\\xgboost\\sklearn.py:1395: UserWarning: `use_label_encoder` is deprecated in 1.7.0.\n",
      "  warnings.warn(\"`use_label_encoder` is deprecated in 1.7.0.\")\n"
     ]
    },
    {
     "name": "stdout",
     "output_type": "stream",
     "text": [
      "[flaml.automl.logger: 04-30 06:33:27] {2383} INFO -  at 59.6s,\testimator catboost's best error=0.1507,\tbest estimator xgboost's best error=0.1507\n",
      "[flaml.automl.logger: 04-30 06:33:27] {2210} INFO - iteration 337, current learner lgbm\n",
      "[flaml.automl.logger: 04-30 06:33:27] {2383} INFO -  at 59.6s,\testimator lgbm's best error=0.1507,\tbest estimator xgboost's best error=0.1507\n",
      "[flaml.automl.logger: 04-30 06:33:27] {2210} INFO - iteration 338, current learner xgboost\n",
      "[flaml.automl.logger: 04-30 06:33:27] {2383} INFO -  at 59.7s,\testimator xgboost's best error=0.1507,\tbest estimator xgboost's best error=0.1507\n",
      "[flaml.automl.logger: 04-30 06:33:27] {2210} INFO - iteration 339, current learner xgboost\n",
      "[flaml.automl.logger: 04-30 06:33:27] {2383} INFO -  at 59.7s,\testimator xgboost's best error=0.1507,\tbest estimator xgboost's best error=0.1507\n",
      "[flaml.automl.logger: 04-30 06:33:27] {2210} INFO - iteration 340, current learner lgbm\n",
      "[flaml.automl.logger: 04-30 06:33:28] {2383} INFO -  at 59.7s,\testimator lgbm's best error=0.1507,\tbest estimator xgboost's best error=0.1507\n",
      "[flaml.automl.logger: 04-30 06:33:28] {2210} INFO - iteration 341, current learner lgbm\n"
     ]
    },
    {
     "name": "stderr",
     "output_type": "stream",
     "text": [
      "c:\\Users\\raji9\\OneDrive\\Desktop\\New folder\\venv\\lib\\site-packages\\xgboost\\sklearn.py:1395: UserWarning: `use_label_encoder` is deprecated in 1.7.0.\n",
      "  warnings.warn(\"`use_label_encoder` is deprecated in 1.7.0.\")\n",
      "c:\\Users\\raji9\\OneDrive\\Desktop\\New folder\\venv\\lib\\site-packages\\xgboost\\sklearn.py:1395: UserWarning: `use_label_encoder` is deprecated in 1.7.0.\n",
      "  warnings.warn(\"`use_label_encoder` is deprecated in 1.7.0.\")\n"
     ]
    },
    {
     "name": "stdout",
     "output_type": "stream",
     "text": [
      "[flaml.automl.logger: 04-30 06:33:28] {2383} INFO -  at 59.9s,\testimator lgbm's best error=0.1507,\tbest estimator xgboost's best error=0.1507\n",
      "[flaml.automl.logger: 04-30 06:33:28] {2210} INFO - iteration 342, current learner lgbm\n",
      "[flaml.automl.logger: 04-30 06:33:28] {2383} INFO -  at 60.0s,\testimator lgbm's best error=0.1507,\tbest estimator xgboost's best error=0.1507\n",
      "[flaml.automl.logger: 04-30 06:33:28] {2210} INFO - iteration 343, current learner xgboost\n",
      "[flaml.automl.logger: 04-30 06:33:28] {2383} INFO -  at 60.0s,\testimator xgboost's best error=0.1507,\tbest estimator xgboost's best error=0.1507\n",
      "[flaml.automl.logger: 04-30 06:33:28] {2619} INFO - retrain xgboost for 0.0s\n",
      "[flaml.automl.logger: 04-30 06:33:28] {2622} INFO - retrained model: XGBClassifier(base_score=None, booster=None, callbacks=[],\n",
      "              colsample_bylevel=0.8148474110627004, colsample_bynode=None,\n",
      "              colsample_bytree=0.9777234800442423, early_stopping_rounds=None,\n",
      "              enable_categorical=False, eval_metric=None, feature_types=None,\n",
      "              gamma=None, gpu_id=None, grow_policy='lossguide',\n",
      "              importance_type=None, interaction_constraints=None,\n",
      "              learning_rate=0.03859136192132085, max_bin=None,\n",
      "              max_cat_threshold=None, max_cat_to_onehot=None,\n",
      "              max_delta_step=None, max_depth=0, max_leaves=4,\n",
      "              min_child_weight=3.815612027960909, missing=nan,\n",
      "              monotone_constraints=None, n_estimators=4, n_jobs=-1,\n",
      "              num_parallel_tree=None, predictor=None, random_state=None, ...)\n",
      "[flaml.automl.logger: 04-30 06:33:28] {1930} INFO - fit succeeded\n",
      "[flaml.automl.logger: 04-30 06:33:28] {1931} INFO - Time taken to find the best model: 0.1430039405822754\n"
     ]
    },
    {
     "name": "stderr",
     "output_type": "stream",
     "text": [
      "c:\\Users\\raji9\\OneDrive\\Desktop\\New folder\\venv\\lib\\site-packages\\xgboost\\sklearn.py:1395: UserWarning: `use_label_encoder` is deprecated in 1.7.0.\n",
      "  warnings.warn(\"`use_label_encoder` is deprecated in 1.7.0.\")\n",
      "c:\\Users\\raji9\\OneDrive\\Desktop\\New folder\\venv\\lib\\site-packages\\xgboost\\sklearn.py:1395: UserWarning: `use_label_encoder` is deprecated in 1.7.0.\n",
      "  warnings.warn(\"`use_label_encoder` is deprecated in 1.7.0.\")\n"
     ]
    }
   ],
   "source": [
    "\n",
    "pipeline_settings = {\n",
    "    f\"automl__{key}\": value for key, value in automl_settings.items()\n",
    "}\n",
    "k = automl_pipeline.fit(X_train, y_train, **pipeline_settings)"
   ]
  },
  {
   "cell_type": "code",
   "execution_count": 132,
   "metadata": {},
   "outputs": [
    {
     "data": {
      "text/plain": [
       "'xgboost'"
      ]
     },
     "execution_count": 132,
     "metadata": {},
     "output_type": "execute_result"
    }
   ],
   "source": [
    "automl_pipeline.steps[1][1].best_estimator\n"
   ]
  },
  {
   "cell_type": "code",
   "execution_count": 128,
   "metadata": {},
   "outputs": [
    {
     "data": {
      "text/plain": [
       "array([0, 0, 0, 1, 1, 1, 1, 0, 1, 1, 0, 0, 1, 0, 0, 1, 0, 1, 0, 0, 0, 0,\n",
       "       1, 0, 0, 0, 0, 0, 0, 1, 0, 1, 0, 1, 0, 0, 0, 1, 1, 0, 0, 0, 0, 0,\n",
       "       1, 0, 0, 0, 0, 0, 1, 1, 0, 0, 0, 1, 0, 1, 1, 1, 0, 1, 1, 0, 0, 1,\n",
       "       0, 0, 0, 1, 1, 1, 0, 1, 0, 0, 1, 1, 1, 1, 0, 1, 1, 0, 0, 0, 1, 1,\n",
       "       0, 0, 0, 1, 0, 0, 0, 0, 0, 0, 1, 0, 0, 0, 1, 0, 0, 0, 1, 0, 0, 0,\n",
       "       1, 0, 1, 0, 0, 0, 0, 0, 1, 1, 0, 1, 1, 0, 0, 0, 1, 0, 1, 0, 1, 0,\n",
       "       0, 1, 0, 1, 1, 0, 0, 1, 0, 1, 0, 0, 1, 1, 0, 0, 1, 0, 0, 0, 0, 1,\n",
       "       0, 0, 0, 1, 1, 1, 0, 0, 0, 1, 0, 0, 0, 1, 0, 0, 0, 1, 0, 1, 0, 0,\n",
       "       1, 1, 1])"
      ]
     },
     "execution_count": 128,
     "metadata": {},
     "output_type": "execute_result"
    }
   ],
   "source": [
    "x = automl_pipeline.predict(X_test)"
   ]
  },
  {
   "cell_type": "code",
   "execution_count": 112,
   "metadata": {},
   "outputs": [
    {
     "name": "stdout",
     "output_type": "stream",
     "text": [
      "Best ML leaner: xgboost\n",
      "Best hyperparmeter config: {'n_estimators': 4, 'max_leaves': 4, 'min_child_weight': 3.815612027960909, 'learning_rate': 0.03859136192132085, 'subsample': 1.0, 'colsample_bylevel': 0.8148474110627004, 'colsample_bytree': 0.9777234800442423, 'reg_alpha': 0.0009765625, 'reg_lambda': 5.525802807180917}\n",
      "Best accuracy on validation data: 0.8493\n",
      "Training duration of best run: 0.027 s\n"
     ]
    }
   ],
   "source": [
    "automl = automl_pipeline.steps[1][1]\n",
    "# Get the best config and best learner\n",
    "print('Best ML leaner:', automl.best_estimator)\n",
    "print('Best hyperparmeter config:', automl.best_config)\n",
    "print('Best accuracy on validation data: {0:.4g}'.format(1 - automl.best_loss))\n",
    "print('Training duration of best run: {0:.4g} s'.format(automl.best_config_train_time))"
   ]
  },
  {
   "cell_type": "code",
   "execution_count": 144,
   "metadata": {},
   "outputs": [],
   "source": [
    "y_pred1 = automl_pipeline.predict(X_test)"
   ]
  },
  {
   "cell_type": "code",
   "execution_count": 155,
   "metadata": {},
   "outputs": [],
   "source": [
    "from sklearn.metrics import confusion_matrix,accuracy_score,classification_report"
   ]
  },
  {
   "cell_type": "code",
   "execution_count": 146,
   "metadata": {},
   "outputs": [
    {
     "data": {
      "text/plain": [
       "array([[88, 22],\n",
       "       [17, 52]], dtype=int64)"
      ]
     },
     "execution_count": 146,
     "metadata": {},
     "output_type": "execute_result"
    }
   ],
   "source": [
    "confusion_matrix(y_pred1,y_test)"
   ]
  },
  {
   "cell_type": "code",
   "execution_count": 154,
   "metadata": {},
   "outputs": [
    {
     "data": {
      "text/plain": [
       "0.7821229050279329"
      ]
     },
     "execution_count": 154,
     "metadata": {},
     "output_type": "execute_result"
    }
   ],
   "source": [
    "accuracy_score(y_pred1,y_test)"
   ]
  },
  {
   "cell_type": "code",
   "execution_count": 157,
   "metadata": {},
   "outputs": [
    {
     "name": "stdout",
     "output_type": "stream",
     "text": [
      "              precision    recall  f1-score   support\n",
      "\n",
      "           0       0.84      0.80      0.82       110\n",
      "           1       0.70      0.75      0.73        69\n",
      "\n",
      "    accuracy                           0.78       179\n",
      "   macro avg       0.77      0.78      0.77       179\n",
      "weighted avg       0.79      0.78      0.78       179\n",
      "\n"
     ]
    }
   ],
   "source": [
    "print(classification_report(y_pred1,y_test))"
   ]
  },
  {
   "cell_type": "code",
   "execution_count": 140,
   "metadata": {},
   "outputs": [],
   "source": [
    "test = pd.read_csv(\"test.csv\")"
   ]
  },
  {
   "cell_type": "code",
   "execution_count": 142,
   "metadata": {},
   "outputs": [],
   "source": [
    "y_pred = automl_pipeline.predict(test)"
   ]
  },
  {
   "cell_type": "code",
   "execution_count": 136,
   "metadata": {},
   "outputs": [
    {
     "data": {
      "text/plain": [
       "'xgboost'"
      ]
     },
     "execution_count": 136,
     "metadata": {},
     "output_type": "execute_result"
    }
   ],
   "source": []
  },
  {
   "cell_type": "code",
   "execution_count": null,
   "metadata": {},
   "outputs": [],
   "source": []
  }
 ],
 "metadata": {
  "kernelspec": {
   "display_name": "Python 3",
   "language": "python",
   "name": "python3"
  },
  "language_info": {
   "codemirror_mode": {
    "name": "ipython",
    "version": 3
   },
   "file_extension": ".py",
   "mimetype": "text/x-python",
   "name": "python",
   "nbconvert_exporter": "python",
   "pygments_lexer": "ipython3",
   "version": "3.8.0"
  },
  "orig_nbformat": 4
 },
 "nbformat": 4,
 "nbformat_minor": 2
}
